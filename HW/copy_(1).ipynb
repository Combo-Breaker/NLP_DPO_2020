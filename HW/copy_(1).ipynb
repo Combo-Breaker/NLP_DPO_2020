{
  "nbformat": 4,
  "nbformat_minor": 0,
  "metadata": {
    "colab": {
      "name": "copy (1).ipynb",
      "provenance": [],
      "toc_visible": true
    },
    "kernelspec": {
      "display_name": "Python 3",
      "language": "python",
      "name": "python3"
    },
    "language_info": {
      "codemirror_mode": {
        "name": "ipython",
        "version": 3
      },
      "file_extension": ".py",
      "mimetype": "text/x-python",
      "name": "python",
      "nbconvert_exporter": "python",
      "pygments_lexer": "ipython3",
      "version": "3.7.3"
    },
    "widgets": {
      "application/vnd.jupyter.widget-state+json": {
        "6db1e497b22349f4b6cbd318249550a0": {
          "model_module": "@jupyter-widgets/controls",
          "model_name": "HBoxModel",
          "state": {
            "_view_name": "HBoxView",
            "_dom_classes": [],
            "_model_name": "HBoxModel",
            "_view_module": "@jupyter-widgets/controls",
            "_model_module_version": "1.5.0",
            "_view_count": null,
            "_view_module_version": "1.5.0",
            "box_style": "",
            "layout": "IPY_MODEL_16e5b25aabf84e1886dae61c3d36f129",
            "_model_module": "@jupyter-widgets/controls",
            "children": [
              "IPY_MODEL_a454a0021f2b427ea9d1fbf49be25670",
              "IPY_MODEL_c91abb50810143358741f862073e3a89"
            ]
          }
        },
        "16e5b25aabf84e1886dae61c3d36f129": {
          "model_module": "@jupyter-widgets/base",
          "model_name": "LayoutModel",
          "state": {
            "_view_name": "LayoutView",
            "grid_template_rows": null,
            "right": null,
            "justify_content": null,
            "_view_module": "@jupyter-widgets/base",
            "overflow": null,
            "_model_module_version": "1.2.0",
            "_view_count": null,
            "flex_flow": null,
            "width": null,
            "min_width": null,
            "border": null,
            "align_items": null,
            "bottom": null,
            "_model_module": "@jupyter-widgets/base",
            "top": null,
            "grid_column": null,
            "overflow_y": null,
            "overflow_x": null,
            "grid_auto_flow": null,
            "grid_area": null,
            "grid_template_columns": null,
            "flex": null,
            "_model_name": "LayoutModel",
            "justify_items": null,
            "grid_row": null,
            "max_height": null,
            "align_content": null,
            "visibility": null,
            "align_self": null,
            "height": null,
            "min_height": null,
            "padding": null,
            "grid_auto_rows": null,
            "grid_gap": null,
            "max_width": null,
            "order": null,
            "_view_module_version": "1.2.0",
            "grid_template_areas": null,
            "object_position": null,
            "object_fit": null,
            "grid_auto_columns": null,
            "margin": null,
            "display": null,
            "left": null
          }
        },
        "a454a0021f2b427ea9d1fbf49be25670": {
          "model_module": "@jupyter-widgets/controls",
          "model_name": "IntProgressModel",
          "state": {
            "_view_name": "ProgressView",
            "style": "IPY_MODEL_811e2a63b9d5432f82881aabb2328d8b",
            "_dom_classes": [],
            "description": "  1%",
            "_model_name": "IntProgressModel",
            "bar_style": "danger",
            "max": 100000,
            "_view_module": "@jupyter-widgets/controls",
            "_model_module_version": "1.5.0",
            "value": 1186,
            "_view_count": null,
            "_view_module_version": "1.5.0",
            "orientation": "horizontal",
            "min": 0,
            "description_tooltip": null,
            "_model_module": "@jupyter-widgets/controls",
            "layout": "IPY_MODEL_12d0c96d49694ea7a1ce6f1f2e87efc4"
          }
        },
        "c91abb50810143358741f862073e3a89": {
          "model_module": "@jupyter-widgets/controls",
          "model_name": "HTMLModel",
          "state": {
            "_view_name": "HTMLView",
            "style": "IPY_MODEL_8806f952e9b345a09e5b5a70b87bd5cb",
            "_dom_classes": [],
            "description": "",
            "_model_name": "HTMLModel",
            "placeholder": "​",
            "_view_module": "@jupyter-widgets/controls",
            "_model_module_version": "1.5.0",
            "value": " 1186/100000 [00:50&lt;1:07:14, 24.50it/s]",
            "_view_count": null,
            "_view_module_version": "1.5.0",
            "description_tooltip": null,
            "_model_module": "@jupyter-widgets/controls",
            "layout": "IPY_MODEL_c2bc330dfbfd48e7b6b6fe9a5ec27745"
          }
        },
        "811e2a63b9d5432f82881aabb2328d8b": {
          "model_module": "@jupyter-widgets/controls",
          "model_name": "ProgressStyleModel",
          "state": {
            "_view_name": "StyleView",
            "_model_name": "ProgressStyleModel",
            "description_width": "initial",
            "_view_module": "@jupyter-widgets/base",
            "_model_module_version": "1.5.0",
            "_view_count": null,
            "_view_module_version": "1.2.0",
            "bar_color": null,
            "_model_module": "@jupyter-widgets/controls"
          }
        },
        "12d0c96d49694ea7a1ce6f1f2e87efc4": {
          "model_module": "@jupyter-widgets/base",
          "model_name": "LayoutModel",
          "state": {
            "_view_name": "LayoutView",
            "grid_template_rows": null,
            "right": null,
            "justify_content": null,
            "_view_module": "@jupyter-widgets/base",
            "overflow": null,
            "_model_module_version": "1.2.0",
            "_view_count": null,
            "flex_flow": null,
            "width": null,
            "min_width": null,
            "border": null,
            "align_items": null,
            "bottom": null,
            "_model_module": "@jupyter-widgets/base",
            "top": null,
            "grid_column": null,
            "overflow_y": null,
            "overflow_x": null,
            "grid_auto_flow": null,
            "grid_area": null,
            "grid_template_columns": null,
            "flex": null,
            "_model_name": "LayoutModel",
            "justify_items": null,
            "grid_row": null,
            "max_height": null,
            "align_content": null,
            "visibility": null,
            "align_self": null,
            "height": null,
            "min_height": null,
            "padding": null,
            "grid_auto_rows": null,
            "grid_gap": null,
            "max_width": null,
            "order": null,
            "_view_module_version": "1.2.0",
            "grid_template_areas": null,
            "object_position": null,
            "object_fit": null,
            "grid_auto_columns": null,
            "margin": null,
            "display": null,
            "left": null
          }
        },
        "8806f952e9b345a09e5b5a70b87bd5cb": {
          "model_module": "@jupyter-widgets/controls",
          "model_name": "DescriptionStyleModel",
          "state": {
            "_view_name": "StyleView",
            "_model_name": "DescriptionStyleModel",
            "description_width": "",
            "_view_module": "@jupyter-widgets/base",
            "_model_module_version": "1.5.0",
            "_view_count": null,
            "_view_module_version": "1.2.0",
            "_model_module": "@jupyter-widgets/controls"
          }
        },
        "c2bc330dfbfd48e7b6b6fe9a5ec27745": {
          "model_module": "@jupyter-widgets/base",
          "model_name": "LayoutModel",
          "state": {
            "_view_name": "LayoutView",
            "grid_template_rows": null,
            "right": null,
            "justify_content": null,
            "_view_module": "@jupyter-widgets/base",
            "overflow": null,
            "_model_module_version": "1.2.0",
            "_view_count": null,
            "flex_flow": null,
            "width": null,
            "min_width": null,
            "border": null,
            "align_items": null,
            "bottom": null,
            "_model_module": "@jupyter-widgets/base",
            "top": null,
            "grid_column": null,
            "overflow_y": null,
            "overflow_x": null,
            "grid_auto_flow": null,
            "grid_area": null,
            "grid_template_columns": null,
            "flex": null,
            "_model_name": "LayoutModel",
            "justify_items": null,
            "grid_row": null,
            "max_height": null,
            "align_content": null,
            "visibility": null,
            "align_self": null,
            "height": null,
            "min_height": null,
            "padding": null,
            "grid_auto_rows": null,
            "grid_gap": null,
            "max_width": null,
            "order": null,
            "_view_module_version": "1.2.0",
            "grid_template_areas": null,
            "object_position": null,
            "object_fit": null,
            "grid_auto_columns": null,
            "margin": null,
            "display": null,
            "left": null
          }
        }
      }
    }
  },
  "cells": [
    {
      "cell_type": "markdown",
      "metadata": {
        "colab_type": "text",
        "id": "GdVNiitLfQjZ"
      },
      "source": [
        "## Решение\n",
        "\n",
        "Ниже простое, но эффективное решение задачи, основанное на полносвязной нейросети."
      ]
    },
    {
      "cell_type": "markdown",
      "metadata": {
        "colab_type": "text",
        "id": "Xvloy_eBxnXR"
      },
      "source": [
        "Считываем обучающую выборку."
      ]
    },
    {
      "cell_type": "code",
      "metadata": {
        "colab_type": "code",
        "id": "l9UUL2GdLEqU",
        "outputId": "c4bf0f86-a38c-4a01-d57a-41c7b2de233c",
        "colab": {
          "base_uri": "https://localhost:8080/",
          "height": 377
        }
      },
      "source": [
        "! wget -O lenta-ru-train.csv https://www.dropbox.com/s/kdupcw1llbdbqwl/lenta-ru-train.csv?dl=0"
      ],
      "execution_count": 1,
      "outputs": [
        {
          "output_type": "stream",
          "text": [
            "--2020-04-30 07:02:28--  https://www.dropbox.com/s/kdupcw1llbdbqwl/lenta-ru-train.csv?dl=0\n",
            "Resolving www.dropbox.com (www.dropbox.com)... 162.125.9.1, 2620:100:601f:1::a27d:901\n",
            "Connecting to www.dropbox.com (www.dropbox.com)|162.125.9.1|:443... connected.\n",
            "HTTP request sent, awaiting response... 301 Moved Permanently\n",
            "Location: /s/raw/kdupcw1llbdbqwl/lenta-ru-train.csv [following]\n",
            "--2020-04-30 07:02:28--  https://www.dropbox.com/s/raw/kdupcw1llbdbqwl/lenta-ru-train.csv\n",
            "Reusing existing connection to www.dropbox.com:443.\n",
            "HTTP request sent, awaiting response... 302 Found\n",
            "Location: https://ucf57f62cffef30d6f96bf096878.dl.dropboxusercontent.com/cd/0/inline/A20tvMlL9Txd4RVjsSb-itWXLx_oLrbVW22Gb2-A2flUWjD1d6sustxZK1MQ9aujQ-MFoz6ZvGMWtR6_u34KFVSDwN0IEul3jrQsX1ABgElSQ8TgdgidDYNJ9PWpE8jfU8I/file# [following]\n",
            "--2020-04-30 07:02:28--  https://ucf57f62cffef30d6f96bf096878.dl.dropboxusercontent.com/cd/0/inline/A20tvMlL9Txd4RVjsSb-itWXLx_oLrbVW22Gb2-A2flUWjD1d6sustxZK1MQ9aujQ-MFoz6ZvGMWtR6_u34KFVSDwN0IEul3jrQsX1ABgElSQ8TgdgidDYNJ9PWpE8jfU8I/file\n",
            "Resolving ucf57f62cffef30d6f96bf096878.dl.dropboxusercontent.com (ucf57f62cffef30d6f96bf096878.dl.dropboxusercontent.com)... 162.125.9.6, 2620:100:601f:6::a27d:906\n",
            "Connecting to ucf57f62cffef30d6f96bf096878.dl.dropboxusercontent.com (ucf57f62cffef30d6f96bf096878.dl.dropboxusercontent.com)|162.125.9.6|:443... connected.\n",
            "HTTP request sent, awaiting response... 200 OK\n",
            "Length: 517902316 (494M) [text/plain]\n",
            "Saving to: ‘lenta-ru-train.csv’\n",
            "\n",
            "lenta-ru-train.csv  100%[===================>] 493.91M  86.2MB/s    in 6.1s    \n",
            "\n",
            "2020-04-30 07:02:35 (80.8 MB/s) - ‘lenta-ru-train.csv’ saved [517902316/517902316]\n",
            "\n"
          ],
          "name": "stdout"
        }
      ]
    },
    {
      "cell_type": "code",
      "metadata": {
        "colab_type": "code",
        "id": "cIe5cT0PfCVQ",
        "outputId": "777954cd-0225-412b-f162-2488e60b1802",
        "colab": {
          "base_uri": "https://localhost:8080/",
          "height": 204
        }
      },
      "source": [
        "import pandas as pd\n",
        "\n",
        "lenta = pd.read_csv('lenta-ru-train.csv',  nrows=100000)\n",
        "lenta.head()"
      ],
      "execution_count": 2,
      "outputs": [
        {
          "output_type": "execute_result",
          "data": {
            "text/html": [
              "<div>\n",
              "<style scoped>\n",
              "    .dataframe tbody tr th:only-of-type {\n",
              "        vertical-align: middle;\n",
              "    }\n",
              "\n",
              "    .dataframe tbody tr th {\n",
              "        vertical-align: top;\n",
              "    }\n",
              "\n",
              "    .dataframe thead th {\n",
              "        text-align: right;\n",
              "    }\n",
              "</style>\n",
              "<table border=\"1\" class=\"dataframe\">\n",
              "  <thead>\n",
              "    <tr style=\"text-align: right;\">\n",
              "      <th></th>\n",
              "      <th>title</th>\n",
              "      <th>text</th>\n",
              "      <th>topic</th>\n",
              "      <th>topic_label</th>\n",
              "    </tr>\n",
              "  </thead>\n",
              "  <tbody>\n",
              "    <tr>\n",
              "      <th>0</th>\n",
              "      <td>Инфляция в январе 2006 года составит 2,6 процента</td>\n",
              "      <td>Глава Росстата Владимир Соколин заявил, что в ...</td>\n",
              "      <td>Экономика</td>\n",
              "      <td>0</td>\n",
              "    </tr>\n",
              "    <tr>\n",
              "      <th>1</th>\n",
              "      <td>Никита Михалков учредил День российского кино</td>\n",
              "      <td>У российских кинематографистов  появится новый...</td>\n",
              "      <td>Культура</td>\n",
              "      <td>3</td>\n",
              "    </tr>\n",
              "    <tr>\n",
              "      <th>2</th>\n",
              "      <td>Марко Матерацци вернется в строй к матчу с ЦСКА</td>\n",
              "      <td>Медицинский штаб миланского \"Интера\" обнародов...</td>\n",
              "      <td>Спорт</td>\n",
              "      <td>1</td>\n",
              "    </tr>\n",
              "    <tr>\n",
              "      <th>3</th>\n",
              "      <td>Определены лауреаты премии \"Книга года\"</td>\n",
              "      <td>Премии \"Книга года\" в 13 номинациях вручены на...</td>\n",
              "      <td>Культура</td>\n",
              "      <td>3</td>\n",
              "    </tr>\n",
              "    <tr>\n",
              "      <th>4</th>\n",
              "      <td>Гол Роналду со штрафного спас португальцев от ...</td>\n",
              "      <td>Сборная Португалии сыграла вничью с командой И...</td>\n",
              "      <td>Спорт</td>\n",
              "      <td>1</td>\n",
              "    </tr>\n",
              "  </tbody>\n",
              "</table>\n",
              "</div>"
            ],
            "text/plain": [
              "                                               title  ... topic_label\n",
              "0  Инфляция в январе 2006 года составит 2,6 процента  ...           0\n",
              "1      Никита Михалков учредил День российского кино  ...           3\n",
              "2    Марко Матерацци вернется в строй к матчу с ЦСКА  ...           1\n",
              "3            Определены лауреаты премии \"Книга года\"  ...           3\n",
              "4  Гол Роналду со штрафного спас португальцев от ...  ...           1\n",
              "\n",
              "[5 rows x 4 columns]"
            ]
          },
          "metadata": {
            "tags": []
          },
          "execution_count": 2
        }
      ]
    },
    {
      "cell_type": "markdown",
      "metadata": {
        "colab_type": "text",
        "id": "Rym__mlCxnXW"
      },
      "source": [
        "В данных есть пропуски, но их немного, просто удалим их. Мы будем использовать для предсказания только поле text."
      ]
    },
    {
      "cell_type": "code",
      "metadata": {
        "colab_type": "code",
        "id": "BTIads62xnXX",
        "colab": {}
      },
      "source": [
        "lenta.dropna(inplace=True)"
      ],
      "execution_count": 0,
      "outputs": []
    },
    {
      "cell_type": "markdown",
      "metadata": {
        "colab_type": "text",
        "id": "3cDwK6abxnXa"
      },
      "source": [
        "Посмотрим на распределение классов - выборка достаточно сбалансирована, можем не использовать under- и oversampling."
      ]
    },
    {
      "cell_type": "code",
      "metadata": {
        "colab_type": "code",
        "id": "-mjzi8bHgpzE",
        "outputId": "d4cf30c1-aa27-4cc0-f237-581b8453b786",
        "colab": {
          "base_uri": "https://localhost:8080/",
          "height": 119
        }
      },
      "source": [
        "lenta.topic.value_counts()"
      ],
      "execution_count": 0,
      "outputs": [
        {
          "output_type": "execute_result",
          "data": {
            "text/plain": [
              "Экономика          30729\n",
              "Спорт              24992\n",
              "Культура           20850\n",
              "Наука и техника    20553\n",
              "Бизнес              2876\n",
              "Name: topic, dtype: int64"
            ]
          },
          "metadata": {
            "tags": []
          },
          "execution_count": 4
        }
      ]
    },
    {
      "cell_type": "markdown",
      "metadata": {
        "colab_type": "text",
        "id": "ShwTFpWnxnXe"
      },
      "source": [
        "Сперва проведем стандартный препроцессинг: лемматизируем наш текст, предварительно удалив все небуквенные символы."
      ]
    },
    {
      "cell_type": "code",
      "metadata": {
        "id": "TM0wsYKf5Q62",
        "colab_type": "code",
        "colab": {
          "base_uri": "https://localhost:8080/",
          "height": 224
        },
        "outputId": "5976bdb0-9edc-4b25-ca2e-3861372e61f2"
      },
      "source": [
        "!pip install pymorphy2"
      ],
      "execution_count": 5,
      "outputs": [
        {
          "output_type": "stream",
          "text": [
            "Collecting pymorphy2\n",
            "\u001b[?25l  Downloading https://files.pythonhosted.org/packages/a3/33/fff9675c68b5f6c63ec8c6e6ff57827dda28a1fa5b2c2d727dffff92dd47/pymorphy2-0.8-py2.py3-none-any.whl (46kB)\n",
            "\u001b[K     |████████████████████████████████| 51kB 1.7MB/s \n",
            "\u001b[?25hCollecting pymorphy2-dicts<3.0,>=2.4\n",
            "\u001b[?25l  Downloading https://files.pythonhosted.org/packages/02/51/2465fd4f72328ab50877b54777764d928da8cb15b74e2680fc1bd8cb3173/pymorphy2_dicts-2.4.393442.3710985-py2.py3-none-any.whl (7.1MB)\n",
            "\u001b[K     |████████████████████████████████| 7.1MB 7.9MB/s \n",
            "\u001b[?25hCollecting dawg-python>=0.7\n",
            "  Downloading https://files.pythonhosted.org/packages/6a/84/ff1ce2071d4c650ec85745766c0047ccc3b5036f1d03559fd46bb38b5eeb/DAWG_Python-0.7.2-py2.py3-none-any.whl\n",
            "Requirement already satisfied: docopt>=0.6 in /usr/local/lib/python3.6/dist-packages (from pymorphy2) (0.6.2)\n",
            "Installing collected packages: pymorphy2-dicts, dawg-python, pymorphy2\n",
            "Successfully installed dawg-python-0.7.2 pymorphy2-0.8 pymorphy2-dicts-2.4.393442.3710985\n"
          ],
          "name": "stdout"
        }
      ]
    },
    {
      "cell_type": "code",
      "metadata": {
        "colab_type": "code",
        "id": "M0-ShW4axnXf",
        "colab": {}
      },
      "source": [
        "from pymorphy2 import MorphAnalyzer\n",
        "from functools import lru_cache\n",
        "from multiprocessing import Pool    \n",
        "from tqdm import tqdm_notebook as tqdm"
      ],
      "execution_count": 0,
      "outputs": []
    },
    {
      "cell_type": "code",
      "metadata": {
        "colab_type": "code",
        "id": "kyKbG7oYxnXh",
        "colab": {}
      },
      "source": [
        "#@lru_cache(maxsize=128)\n",
        "def preprocess(text, M = MorphAnalyzer()):\n",
        "    tokens = [i for i in text.split() if i.isalpha()]\n",
        "    lemmas = [M.parse(i)[0].normal_form for i in tokens]\n",
        "    lemmas_cleaned = [l for l in lemmas if len(l) >= 4]\n",
        "    return lemmas_cleaned"
      ],
      "execution_count": 0,
      "outputs": []
    },
    {
      "cell_type": "code",
      "metadata": {
        "colab_type": "code",
        "id": "_obmiJzkxnXl",
        "outputId": "36d95fa9-1749-4931-bcfe-255be0b1bbe3",
        "colab": {
          "base_uri": "https://localhost:8080/",
          "height": 34
        }
      },
      "source": [
        "lenta.text[0][:150]"
      ],
      "execution_count": 0,
      "outputs": [
        {
          "output_type": "execute_result",
          "data": {
            "text/plain": [
              "'Глава Росстата Владимир Соколин заявил, что в январе 2006 года темпы роста цен в России составят 2,6 процента, то есть столько же, сколько они состави'"
            ]
          },
          "metadata": {
            "tags": []
          },
          "execution_count": 6
        }
      ]
    },
    {
      "cell_type": "code",
      "metadata": {
        "colab_type": "code",
        "id": "Uayf8n8OxnXo",
        "outputId": "26d7a073-1f14-46eb-ce97-827b4ab80601",
        "colab": {
          "base_uri": "https://localhost:8080/",
          "height": 255
        }
      },
      "source": [
        "preprocess(lenta.text[0][:150])"
      ],
      "execution_count": 0,
      "outputs": [
        {
          "output_type": "execute_result",
          "data": {
            "text/plain": [
              "['глава',\n",
              " 'росстат',\n",
              " 'владимир',\n",
              " 'соколиный',\n",
              " 'январь',\n",
              " 'темп',\n",
              " 'рост',\n",
              " 'цена',\n",
              " 'россия',\n",
              " 'составить',\n",
              " 'есть',\n",
              " 'столько',\n",
              " 'сколько',\n",
              " 'состави']"
            ]
          },
          "metadata": {
            "tags": []
          },
          "execution_count": 7
        }
      ]
    },
    {
      "cell_type": "markdown",
      "metadata": {
        "colab_type": "text",
        "id": "d8G0j6I6xnXq"
      },
      "source": [
        "Применим препроцессинг ко всему датасету:"
      ]
    },
    {
      "cell_type": "code",
      "metadata": {
        "colab_type": "code",
        "id": "TDJiIf3PxnXr",
        "outputId": "0283fc17-0df5-47eb-8ba8-af21aaaf9e0b",
        "colab": {
          "base_uri": "https://localhost:8080/",
          "height": 1000,
          "referenced_widgets": [
            "6db1e497b22349f4b6cbd318249550a0",
            "16e5b25aabf84e1886dae61c3d36f129",
            "a454a0021f2b427ea9d1fbf49be25670",
            "c91abb50810143358741f862073e3a89",
            "811e2a63b9d5432f82881aabb2328d8b",
            "12d0c96d49694ea7a1ce6f1f2e87efc4",
            "8806f952e9b345a09e5b5a70b87bd5cb",
            "c2bc330dfbfd48e7b6b6fe9a5ec27745"
          ]
        }
      },
      "source": [
        "with Pool(8) as p:\n",
        "    lemmas = list(tqdm(p.imap(preprocess, lenta['text']), total=len(lenta)))\n",
        "\n",
        "    \n",
        "lenta['lemmas'] = lemmas\n",
        "lenta.head()"
      ],
      "execution_count": 8,
      "outputs": [
        {
          "output_type": "stream",
          "text": [
            "/usr/local/lib/python3.6/dist-packages/ipykernel_launcher.py:2: TqdmDeprecationWarning: This function will be removed in tqdm==5.0.0\n",
            "Please use `tqdm.notebook.tqdm` instead of `tqdm.tqdm_notebook`\n",
            "  \n"
          ],
          "name": "stderr"
        },
        {
          "output_type": "display_data",
          "data": {
            "application/vnd.jupyter.widget-view+json": {
              "model_id": "6db1e497b22349f4b6cbd318249550a0",
              "version_minor": 0,
              "version_major": 2
            },
            "text/plain": [
              "HBox(children=(IntProgress(value=0, max=100000), HTML(value='')))"
            ]
          },
          "metadata": {
            "tags": []
          }
        },
        {
          "output_type": "stream",
          "text": [
            "Process ForkPoolWorker-1:\n",
            "Process ForkPoolWorker-5:\n",
            "Process ForkPoolWorker-2:\n",
            "Process ForkPoolWorker-4:\n",
            "Process ForkPoolWorker-3:\n",
            "Process ForkPoolWorker-8:\n",
            "Process ForkPoolWorker-6:\n",
            "Traceback (most recent call last):\n",
            "Traceback (most recent call last):\n",
            "Process ForkPoolWorker-7:\n",
            "Traceback (most recent call last):\n",
            "  File \"/usr/lib/python3.6/multiprocessing/process.py\", line 258, in _bootstrap\n",
            "    self.run()\n",
            "Traceback (most recent call last):\n",
            "Traceback (most recent call last):\n",
            "  File \"/usr/lib/python3.6/multiprocessing/process.py\", line 258, in _bootstrap\n",
            "    self.run()\n",
            "Traceback (most recent call last):\n",
            "  File \"/usr/lib/python3.6/multiprocessing/process.py\", line 93, in run\n",
            "    self._target(*self._args, **self._kwargs)\n",
            "Traceback (most recent call last):\n",
            "  File \"/usr/lib/python3.6/multiprocessing/process.py\", line 258, in _bootstrap\n",
            "    self.run()\n",
            "  File \"/usr/lib/python3.6/multiprocessing/process.py\", line 93, in run\n",
            "    self._target(*self._args, **self._kwargs)\n",
            "  File \"/usr/lib/python3.6/multiprocessing/process.py\", line 258, in _bootstrap\n",
            "    self.run()\n",
            "  File \"/usr/lib/python3.6/multiprocessing/process.py\", line 258, in _bootstrap\n",
            "    self.run()\n",
            "  File \"/usr/lib/python3.6/multiprocessing/process.py\", line 258, in _bootstrap\n",
            "    self.run()\n",
            "  File \"/usr/lib/python3.6/multiprocessing/process.py\", line 258, in _bootstrap\n",
            "    self.run()\n",
            "Traceback (most recent call last):\n",
            "  File \"/usr/lib/python3.6/multiprocessing/pool.py\", line 119, in worker\n",
            "    result = (True, func(*args, **kwds))\n",
            "  File \"/usr/lib/python3.6/multiprocessing/pool.py\", line 119, in worker\n",
            "    result = (True, func(*args, **kwds))\n",
            "  File \"/usr/lib/python3.6/multiprocessing/process.py\", line 93, in run\n",
            "    self._target(*self._args, **self._kwargs)\n",
            "  File \"/usr/lib/python3.6/multiprocessing/process.py\", line 93, in run\n",
            "    self._target(*self._args, **self._kwargs)\n",
            "  File \"/usr/lib/python3.6/multiprocessing/process.py\", line 93, in run\n",
            "    self._target(*self._args, **self._kwargs)\n",
            "  File \"/usr/lib/python3.6/multiprocessing/process.py\", line 93, in run\n",
            "    self._target(*self._args, **self._kwargs)\n",
            "  File \"/usr/lib/python3.6/multiprocessing/process.py\", line 93, in run\n",
            "    self._target(*self._args, **self._kwargs)\n",
            "  File \"/usr/lib/python3.6/multiprocessing/process.py\", line 258, in _bootstrap\n",
            "    self.run()\n",
            "  File \"<ipython-input-7-cd3052d501cc>\", line 3, in preprocess\n",
            "    lemmas = [M.parse(i)[0].normal_form for i in tokens]\n",
            "  File \"/usr/lib/python3.6/multiprocessing/pool.py\", line 119, in worker\n",
            "    result = (True, func(*args, **kwds))\n",
            "  File \"/usr/lib/python3.6/multiprocessing/pool.py\", line 119, in worker\n",
            "    result = (True, func(*args, **kwds))\n",
            "  File \"/usr/lib/python3.6/multiprocessing/pool.py\", line 119, in worker\n",
            "    result = (True, func(*args, **kwds))\n",
            "  File \"/usr/lib/python3.6/multiprocessing/pool.py\", line 119, in worker\n",
            "    result = (True, func(*args, **kwds))\n",
            "  File \"<ipython-input-7-cd3052d501cc>\", line 3, in preprocess\n",
            "    lemmas = [M.parse(i)[0].normal_form for i in tokens]\n",
            "  File \"<ipython-input-7-cd3052d501cc>\", line 3, in <listcomp>\n",
            "    lemmas = [M.parse(i)[0].normal_form for i in tokens]\n",
            "  File \"/usr/lib/python3.6/multiprocessing/pool.py\", line 119, in worker\n",
            "    result = (True, func(*args, **kwds))\n",
            "  File \"<ipython-input-7-cd3052d501cc>\", line 3, in preprocess\n",
            "    lemmas = [M.parse(i)[0].normal_form for i in tokens]\n",
            "  File \"<ipython-input-7-cd3052d501cc>\", line 3, in preprocess\n",
            "    lemmas = [M.parse(i)[0].normal_form for i in tokens]\n",
            "  File \"/usr/lib/python3.6/multiprocessing/process.py\", line 93, in run\n",
            "    self._target(*self._args, **self._kwargs)\n",
            "  File \"<ipython-input-7-cd3052d501cc>\", line 3, in preprocess\n",
            "    lemmas = [M.parse(i)[0].normal_form for i in tokens]\n",
            "  File \"<ipython-input-7-cd3052d501cc>\", line 3, in preprocess\n",
            "    lemmas = [M.parse(i)[0].normal_form for i in tokens]\n",
            "  File \"<ipython-input-7-cd3052d501cc>\", line 3, in <listcomp>\n",
            "    lemmas = [M.parse(i)[0].normal_form for i in tokens]\n",
            "  File \"/usr/lib/python3.6/multiprocessing/pool.py\", line 119, in worker\n",
            "    result = (True, func(*args, **kwds))\n",
            "  File \"<ipython-input-7-cd3052d501cc>\", line 3, in <listcomp>\n",
            "    lemmas = [M.parse(i)[0].normal_form for i in tokens]\n",
            "  File \"<ipython-input-7-cd3052d501cc>\", line 3, in preprocess\n",
            "    lemmas = [M.parse(i)[0].normal_form for i in tokens]\n",
            "  File \"<ipython-input-7-cd3052d501cc>\", line 3, in <listcomp>\n",
            "    lemmas = [M.parse(i)[0].normal_form for i in tokens]\n",
            "  File \"/usr/local/lib/python3.6/dist-packages/pymorphy2/analyzer.py\", line 245, in parse\n",
            "    res = self.prob_estimator.apply_to_parses(word, word_lower, res)\n",
            "  File \"<ipython-input-7-cd3052d501cc>\", line 3, in <listcomp>\n",
            "    lemmas = [M.parse(i)[0].normal_form for i in tokens]\n",
            "  File \"<ipython-input-7-cd3052d501cc>\", line 3, in <listcomp>\n",
            "    lemmas = [M.parse(i)[0].normal_form for i in tokens]\n",
            "  File \"/usr/local/lib/python3.6/dist-packages/pymorphy2/analyzer.py\", line 240, in parse\n",
            "    res.extend(analyzer.parse(word, word_lower, seen))\n",
            "  File \"<ipython-input-7-cd3052d501cc>\", line 3, in preprocess\n",
            "    lemmas = [M.parse(i)[0].normal_form for i in tokens]\n",
            "  File \"<ipython-input-7-cd3052d501cc>\", line 3, in <listcomp>\n",
            "    lemmas = [M.parse(i)[0].normal_form for i in tokens]\n",
            "  File \"/usr/local/lib/python3.6/dist-packages/pymorphy2/analyzer.py\", line 245, in parse\n",
            "    res = self.prob_estimator.apply_to_parses(word, word_lower, res)\n",
            "  File \"/usr/local/lib/python3.6/dist-packages/pymorphy2/analyzer.py\", line 240, in parse\n",
            "    res.extend(analyzer.parse(word, word_lower, seen))\n",
            "  File \"/usr/local/lib/python3.6/dist-packages/pymorphy2/analyzer.py\", line 72, in apply_to_parses\n",
            "    for (word, tag, normal_form, score, methods_stack) in parses]\n",
            "  File \"/usr/local/lib/python3.6/dist-packages/pymorphy2/analyzer.py\", line 240, in parse\n",
            "    res.extend(analyzer.parse(word, word_lower, seen))\n",
            "  File \"/usr/local/lib/python3.6/dist-packages/pymorphy2/units/by_analogy.py\", line 111, in parse\n",
            "    parses = self.dict_analyzer.parse(unprefixed_word, unprefixed_word, seen_parses)\n",
            "  File \"/usr/local/lib/python3.6/dist-packages/pymorphy2/analyzer.py\", line 245, in parse\n",
            "    res = self.prob_estimator.apply_to_parses(word, word_lower, res)\n",
            "  File \"/usr/local/lib/python3.6/dist-packages/pymorphy2/analyzer.py\", line 245, in parse\n",
            "    res = self.prob_estimator.apply_to_parses(word, word_lower, res)\n",
            "  File \"<ipython-input-7-cd3052d501cc>\", line 3, in <listcomp>\n",
            "    lemmas = [M.parse(i)[0].normal_form for i in tokens]\n",
            "  File \"/usr/local/lib/python3.6/dist-packages/pymorphy2/units/by_lookup.py\", line 32, in parse\n",
            "    normal_form = self.dict.build_normal_form(para_id, idx, fixed_word)\n",
            "  File \"/usr/local/lib/python3.6/dist-packages/pymorphy2/analyzer.py\", line 72, in apply_to_parses\n",
            "    for (word, tag, normal_form, score, methods_stack) in parses]\n",
            "  File \"/usr/local/lib/python3.6/dist-packages/pymorphy2/analyzer.py\", line 72, in <listcomp>\n",
            "    for (word, tag, normal_form, score, methods_stack) in parses]\n",
            "  File \"/usr/local/lib/python3.6/dist-packages/pymorphy2/units/by_lookup.py\", line 25, in parse\n",
            "    para_data = self.dict.words.similar_items(word_lower, self.dict.ee)\n",
            "  File \"/usr/local/lib/python3.6/dist-packages/pymorphy2/analyzer.py\", line 72, in apply_to_parses\n",
            "    for (word, tag, normal_form, score, methods_stack) in parses]\n",
            "  File \"/usr/local/lib/python3.6/dist-packages/pymorphy2/opencorpora_dict/wrapper.py\", line 88, in build_normal_form\n",
            "    return normal_prefix + stem + normal_suffix\n",
            "  File \"/usr/local/lib/python3.6/dist-packages/pymorphy2/units/by_lookup.py\", line 25, in parse\n",
            "    para_data = self.dict.words.similar_items(word_lower, self.dict.ee)\n",
            "  File \"/usr/local/lib/python3.6/dist-packages/pymorphy2/analyzer.py\", line 72, in apply_to_parses\n",
            "    for (word, tag, normal_form, score, methods_stack) in parses]\n",
            "  File \"/usr/local/lib/python3.6/dist-packages/pymorphy2/analyzer.py\", line 245, in parse\n",
            "    res = self.prob_estimator.apply_to_parses(word, word_lower, res)\n",
            "  File \"/usr/local/lib/python3.6/dist-packages/pymorphy2/analyzer.py\", line 72, in <listcomp>\n",
            "    for (word, tag, normal_form, score, methods_stack) in parses]\n",
            "  File \"/usr/local/lib/python3.6/dist-packages/pymorphy2/dawg.py\", line 65, in prob\n",
            "    return self.get(dawg_key, 0) / self.MULTIPLIER\n",
            "  File \"/usr/local/lib/python3.6/dist-packages/pymorphy2/analyzer.py\", line 72, in <listcomp>\n",
            "    for (word, tag, normal_form, score, methods_stack) in parses]\n",
            "KeyboardInterrupt\n"
          ],
          "name": "stderr"
        },
        {
          "output_type": "error",
          "ename": "KeyboardInterrupt",
          "evalue": "ignored",
          "traceback": [
            "\u001b[0;31m---------------------------------------------------------------------------\u001b[0m",
            "\u001b[0;31mIndexError\u001b[0m                                Traceback (most recent call last)",
            "\u001b[0;32m/usr/lib/python3.6/multiprocessing/pool.py\u001b[0m in \u001b[0;36mnext\u001b[0;34m(self, timeout)\u001b[0m\n\u001b[1;32m    719\u001b[0m             \u001b[0;32mtry\u001b[0m\u001b[0;34m:\u001b[0m\u001b[0;34m\u001b[0m\u001b[0;34m\u001b[0m\u001b[0m\n\u001b[0;32m--> 720\u001b[0;31m                 \u001b[0mitem\u001b[0m \u001b[0;34m=\u001b[0m \u001b[0mself\u001b[0m\u001b[0;34m.\u001b[0m\u001b[0m_items\u001b[0m\u001b[0;34m.\u001b[0m\u001b[0mpopleft\u001b[0m\u001b[0;34m(\u001b[0m\u001b[0;34m)\u001b[0m\u001b[0;34m\u001b[0m\u001b[0;34m\u001b[0m\u001b[0m\n\u001b[0m\u001b[1;32m    721\u001b[0m             \u001b[0;32mexcept\u001b[0m \u001b[0mIndexError\u001b[0m\u001b[0;34m:\u001b[0m\u001b[0;34m\u001b[0m\u001b[0;34m\u001b[0m\u001b[0m\n",
            "\u001b[0;31mIndexError\u001b[0m: pop from an empty deque",
            "\nDuring handling of the above exception, another exception occurred:\n",
            "\u001b[0;31mKeyboardInterrupt\u001b[0m                         Traceback (most recent call last)",
            "\u001b[0;32m<ipython-input-8-0a7269872260>\u001b[0m in \u001b[0;36m<module>\u001b[0;34m()\u001b[0m\n\u001b[1;32m      1\u001b[0m \u001b[0;32mwith\u001b[0m \u001b[0mPool\u001b[0m\u001b[0;34m(\u001b[0m\u001b[0;36m8\u001b[0m\u001b[0;34m)\u001b[0m \u001b[0;32mas\u001b[0m \u001b[0mp\u001b[0m\u001b[0;34m:\u001b[0m\u001b[0;34m\u001b[0m\u001b[0;34m\u001b[0m\u001b[0m\n\u001b[0;32m----> 2\u001b[0;31m     \u001b[0mlemmas\u001b[0m \u001b[0;34m=\u001b[0m \u001b[0mlist\u001b[0m\u001b[0;34m(\u001b[0m\u001b[0mtqdm\u001b[0m\u001b[0;34m(\u001b[0m\u001b[0mp\u001b[0m\u001b[0;34m.\u001b[0m\u001b[0mimap\u001b[0m\u001b[0;34m(\u001b[0m\u001b[0mpreprocess\u001b[0m\u001b[0;34m,\u001b[0m \u001b[0mlenta\u001b[0m\u001b[0;34m[\u001b[0m\u001b[0;34m'text'\u001b[0m\u001b[0;34m]\u001b[0m\u001b[0;34m)\u001b[0m\u001b[0;34m,\u001b[0m \u001b[0mtotal\u001b[0m\u001b[0;34m=\u001b[0m\u001b[0mlen\u001b[0m\u001b[0;34m(\u001b[0m\u001b[0mlenta\u001b[0m\u001b[0;34m)\u001b[0m\u001b[0;34m)\u001b[0m\u001b[0;34m)\u001b[0m\u001b[0;34m\u001b[0m\u001b[0;34m\u001b[0m\u001b[0m\n\u001b[0m\u001b[1;32m      3\u001b[0m \u001b[0;34m\u001b[0m\u001b[0m\n\u001b[1;32m      4\u001b[0m \u001b[0;34m\u001b[0m\u001b[0m\n\u001b[1;32m      5\u001b[0m \u001b[0mlenta\u001b[0m\u001b[0;34m[\u001b[0m\u001b[0;34m'lemmas'\u001b[0m\u001b[0;34m]\u001b[0m \u001b[0;34m=\u001b[0m \u001b[0mlemmas\u001b[0m\u001b[0;34m\u001b[0m\u001b[0;34m\u001b[0m\u001b[0m\n",
            "\u001b[0;32m/usr/local/lib/python3.6/dist-packages/tqdm/notebook.py\u001b[0m in \u001b[0;36m__iter__\u001b[0;34m(self, *args, **kwargs)\u001b[0m\n\u001b[1;32m    220\u001b[0m     \u001b[0;32mdef\u001b[0m \u001b[0m__iter__\u001b[0m\u001b[0;34m(\u001b[0m\u001b[0mself\u001b[0m\u001b[0;34m,\u001b[0m \u001b[0;34m*\u001b[0m\u001b[0margs\u001b[0m\u001b[0;34m,\u001b[0m \u001b[0;34m**\u001b[0m\u001b[0mkwargs\u001b[0m\u001b[0;34m)\u001b[0m\u001b[0;34m:\u001b[0m\u001b[0;34m\u001b[0m\u001b[0;34m\u001b[0m\u001b[0m\n\u001b[1;32m    221\u001b[0m         \u001b[0;32mtry\u001b[0m\u001b[0;34m:\u001b[0m\u001b[0;34m\u001b[0m\u001b[0;34m\u001b[0m\u001b[0m\n\u001b[0;32m--> 222\u001b[0;31m             \u001b[0;32mfor\u001b[0m \u001b[0mobj\u001b[0m \u001b[0;32min\u001b[0m \u001b[0msuper\u001b[0m\u001b[0;34m(\u001b[0m\u001b[0mtqdm_notebook\u001b[0m\u001b[0;34m,\u001b[0m \u001b[0mself\u001b[0m\u001b[0;34m)\u001b[0m\u001b[0;34m.\u001b[0m\u001b[0m__iter__\u001b[0m\u001b[0;34m(\u001b[0m\u001b[0;34m*\u001b[0m\u001b[0margs\u001b[0m\u001b[0;34m,\u001b[0m \u001b[0;34m**\u001b[0m\u001b[0mkwargs\u001b[0m\u001b[0;34m)\u001b[0m\u001b[0;34m:\u001b[0m\u001b[0;34m\u001b[0m\u001b[0;34m\u001b[0m\u001b[0m\n\u001b[0m\u001b[1;32m    223\u001b[0m                 \u001b[0;31m# return super(tqdm...) will not catch exception\u001b[0m\u001b[0;34m\u001b[0m\u001b[0;34m\u001b[0m\u001b[0;34m\u001b[0m\u001b[0m\n\u001b[1;32m    224\u001b[0m                 \u001b[0;32myield\u001b[0m \u001b[0mobj\u001b[0m\u001b[0;34m\u001b[0m\u001b[0;34m\u001b[0m\u001b[0m\n",
            "\u001b[0;32m/usr/local/lib/python3.6/dist-packages/tqdm/std.py\u001b[0m in \u001b[0;36m__iter__\u001b[0;34m(self)\u001b[0m\n\u001b[1;32m   1089\u001b[0m             \"\"\"), fp_write=getattr(self.fp, 'write', sys.stderr.write))\n\u001b[1;32m   1090\u001b[0m \u001b[0;34m\u001b[0m\u001b[0m\n\u001b[0;32m-> 1091\u001b[0;31m         \u001b[0;32mfor\u001b[0m \u001b[0mobj\u001b[0m \u001b[0;32min\u001b[0m \u001b[0miterable\u001b[0m\u001b[0;34m:\u001b[0m\u001b[0;34m\u001b[0m\u001b[0;34m\u001b[0m\u001b[0m\n\u001b[0m\u001b[1;32m   1092\u001b[0m             \u001b[0;32myield\u001b[0m \u001b[0mobj\u001b[0m\u001b[0;34m\u001b[0m\u001b[0;34m\u001b[0m\u001b[0m\n\u001b[1;32m   1093\u001b[0m             \u001b[0;31m# Update and possibly print the progressbar.\u001b[0m\u001b[0;34m\u001b[0m\u001b[0;34m\u001b[0m\u001b[0;34m\u001b[0m\u001b[0m\n",
            "\u001b[0;32m/usr/lib/python3.6/multiprocessing/pool.py\u001b[0m in \u001b[0;36mnext\u001b[0;34m(self, timeout)\u001b[0m\n\u001b[1;32m    722\u001b[0m                 \u001b[0;32mif\u001b[0m \u001b[0mself\u001b[0m\u001b[0;34m.\u001b[0m\u001b[0m_index\u001b[0m \u001b[0;34m==\u001b[0m \u001b[0mself\u001b[0m\u001b[0;34m.\u001b[0m\u001b[0m_length\u001b[0m\u001b[0;34m:\u001b[0m\u001b[0;34m\u001b[0m\u001b[0;34m\u001b[0m\u001b[0m\n\u001b[1;32m    723\u001b[0m                     \u001b[0;32mraise\u001b[0m \u001b[0mStopIteration\u001b[0m\u001b[0;34m\u001b[0m\u001b[0;34m\u001b[0m\u001b[0m\n\u001b[0;32m--> 724\u001b[0;31m                 \u001b[0mself\u001b[0m\u001b[0;34m.\u001b[0m\u001b[0m_cond\u001b[0m\u001b[0;34m.\u001b[0m\u001b[0mwait\u001b[0m\u001b[0;34m(\u001b[0m\u001b[0mtimeout\u001b[0m\u001b[0;34m)\u001b[0m\u001b[0;34m\u001b[0m\u001b[0;34m\u001b[0m\u001b[0m\n\u001b[0m\u001b[1;32m    725\u001b[0m                 \u001b[0;32mtry\u001b[0m\u001b[0;34m:\u001b[0m\u001b[0;34m\u001b[0m\u001b[0;34m\u001b[0m\u001b[0m\n\u001b[1;32m    726\u001b[0m                     \u001b[0mitem\u001b[0m \u001b[0;34m=\u001b[0m \u001b[0mself\u001b[0m\u001b[0;34m.\u001b[0m\u001b[0m_items\u001b[0m\u001b[0;34m.\u001b[0m\u001b[0mpopleft\u001b[0m\u001b[0;34m(\u001b[0m\u001b[0;34m)\u001b[0m\u001b[0;34m\u001b[0m\u001b[0;34m\u001b[0m\u001b[0m\n",
            "\u001b[0;32m/usr/lib/python3.6/threading.py\u001b[0m in \u001b[0;36mwait\u001b[0;34m(self, timeout)\u001b[0m\n\u001b[1;32m    293\u001b[0m         \u001b[0;32mtry\u001b[0m\u001b[0;34m:\u001b[0m    \u001b[0;31m# restore state no matter what (e.g., KeyboardInterrupt)\u001b[0m\u001b[0;34m\u001b[0m\u001b[0;34m\u001b[0m\u001b[0m\n\u001b[1;32m    294\u001b[0m             \u001b[0;32mif\u001b[0m \u001b[0mtimeout\u001b[0m \u001b[0;32mis\u001b[0m \u001b[0;32mNone\u001b[0m\u001b[0;34m:\u001b[0m\u001b[0;34m\u001b[0m\u001b[0;34m\u001b[0m\u001b[0m\n\u001b[0;32m--> 295\u001b[0;31m                 \u001b[0mwaiter\u001b[0m\u001b[0;34m.\u001b[0m\u001b[0macquire\u001b[0m\u001b[0;34m(\u001b[0m\u001b[0;34m)\u001b[0m\u001b[0;34m\u001b[0m\u001b[0;34m\u001b[0m\u001b[0m\n\u001b[0m\u001b[1;32m    296\u001b[0m                 \u001b[0mgotit\u001b[0m \u001b[0;34m=\u001b[0m \u001b[0;32mTrue\u001b[0m\u001b[0;34m\u001b[0m\u001b[0;34m\u001b[0m\u001b[0m\n\u001b[1;32m    297\u001b[0m             \u001b[0;32melse\u001b[0m\u001b[0;34m:\u001b[0m\u001b[0;34m\u001b[0m\u001b[0;34m\u001b[0m\u001b[0m\n",
            "\u001b[0;31mKeyboardInterrupt\u001b[0m: "
          ]
        }
      ]
    },
    {
      "cell_type": "code",
      "metadata": {
        "id": "QRdtfDR09iBe",
        "colab_type": "code",
        "colab": {}
      },
      "source": [
        "lenta = pd.read_csv('lemmatized.csv')"
      ],
      "execution_count": 0,
      "outputs": []
    },
    {
      "cell_type": "markdown",
      "metadata": {
        "colab_type": "text",
        "id": "qmepzvltxnXv"
      },
      "source": [
        "Отлично, но дальше мы хотим использовать CountVectorizer (мешок слов), а ему на вход нужен не список слов, а строка, поэтому склеим слова через пробел:"
      ]
    },
    {
      "cell_type": "code",
      "metadata": {
        "colab_type": "code",
        "id": "UcPxHjsWxnXv",
        "colab": {
          "base_uri": "https://localhost:8080/",
          "height": 307
        },
        "outputId": "886ad86f-1609-4dab-b18c-9911b1b3762e"
      },
      "source": [
        "lenta['lemmas'] = lenta.lemmas.apply(lambda x:  ' '.join([i for i in x]))\n",
        "lenta.head()"
      ],
      "execution_count": 10,
      "outputs": [
        {
          "output_type": "error",
          "ename": "TypeError",
          "evalue": "ignored",
          "traceback": [
            "\u001b[0;31m---------------------------------------------------------------------------\u001b[0m",
            "\u001b[0;31mTypeError\u001b[0m                                 Traceback (most recent call last)",
            "\u001b[0;32m<ipython-input-10-95ae76a7b2d5>\u001b[0m in \u001b[0;36m<module>\u001b[0;34m()\u001b[0m\n\u001b[0;32m----> 1\u001b[0;31m \u001b[0mlenta\u001b[0m\u001b[0;34m[\u001b[0m\u001b[0;34m'lemmas'\u001b[0m\u001b[0;34m]\u001b[0m \u001b[0;34m=\u001b[0m \u001b[0mlenta\u001b[0m\u001b[0;34m.\u001b[0m\u001b[0mlemmas\u001b[0m\u001b[0;34m.\u001b[0m\u001b[0mapply\u001b[0m\u001b[0;34m(\u001b[0m\u001b[0;32mlambda\u001b[0m \u001b[0mx\u001b[0m\u001b[0;34m:\u001b[0m  \u001b[0;34m' '\u001b[0m\u001b[0;34m.\u001b[0m\u001b[0mjoin\u001b[0m\u001b[0;34m(\u001b[0m\u001b[0;34m[\u001b[0m\u001b[0mi\u001b[0m \u001b[0;32mfor\u001b[0m \u001b[0mi\u001b[0m \u001b[0;32min\u001b[0m \u001b[0mx\u001b[0m\u001b[0;34m]\u001b[0m\u001b[0;34m)\u001b[0m\u001b[0;34m)\u001b[0m\u001b[0;34m\u001b[0m\u001b[0;34m\u001b[0m\u001b[0m\n\u001b[0m\u001b[1;32m      2\u001b[0m \u001b[0mlenta\u001b[0m\u001b[0;34m.\u001b[0m\u001b[0mhead\u001b[0m\u001b[0;34m(\u001b[0m\u001b[0;34m)\u001b[0m\u001b[0;34m\u001b[0m\u001b[0;34m\u001b[0m\u001b[0m\n",
            "\u001b[0;32m/usr/local/lib/python3.6/dist-packages/pandas/core/series.py\u001b[0m in \u001b[0;36mapply\u001b[0;34m(self, func, convert_dtype, args, **kwds)\u001b[0m\n\u001b[1;32m   3846\u001b[0m             \u001b[0;32melse\u001b[0m\u001b[0;34m:\u001b[0m\u001b[0;34m\u001b[0m\u001b[0;34m\u001b[0m\u001b[0m\n\u001b[1;32m   3847\u001b[0m                 \u001b[0mvalues\u001b[0m \u001b[0;34m=\u001b[0m \u001b[0mself\u001b[0m\u001b[0;34m.\u001b[0m\u001b[0mastype\u001b[0m\u001b[0;34m(\u001b[0m\u001b[0mobject\u001b[0m\u001b[0;34m)\u001b[0m\u001b[0;34m.\u001b[0m\u001b[0mvalues\u001b[0m\u001b[0;34m\u001b[0m\u001b[0;34m\u001b[0m\u001b[0m\n\u001b[0;32m-> 3848\u001b[0;31m                 \u001b[0mmapped\u001b[0m \u001b[0;34m=\u001b[0m \u001b[0mlib\u001b[0m\u001b[0;34m.\u001b[0m\u001b[0mmap_infer\u001b[0m\u001b[0;34m(\u001b[0m\u001b[0mvalues\u001b[0m\u001b[0;34m,\u001b[0m \u001b[0mf\u001b[0m\u001b[0;34m,\u001b[0m \u001b[0mconvert\u001b[0m\u001b[0;34m=\u001b[0m\u001b[0mconvert_dtype\u001b[0m\u001b[0;34m)\u001b[0m\u001b[0;34m\u001b[0m\u001b[0;34m\u001b[0m\u001b[0m\n\u001b[0m\u001b[1;32m   3849\u001b[0m \u001b[0;34m\u001b[0m\u001b[0m\n\u001b[1;32m   3850\u001b[0m         \u001b[0;32mif\u001b[0m \u001b[0mlen\u001b[0m\u001b[0;34m(\u001b[0m\u001b[0mmapped\u001b[0m\u001b[0;34m)\u001b[0m \u001b[0;32mand\u001b[0m \u001b[0misinstance\u001b[0m\u001b[0;34m(\u001b[0m\u001b[0mmapped\u001b[0m\u001b[0;34m[\u001b[0m\u001b[0;36m0\u001b[0m\u001b[0;34m]\u001b[0m\u001b[0;34m,\u001b[0m \u001b[0mSeries\u001b[0m\u001b[0;34m)\u001b[0m\u001b[0;34m:\u001b[0m\u001b[0;34m\u001b[0m\u001b[0;34m\u001b[0m\u001b[0m\n",
            "\u001b[0;32mpandas/_libs/lib.pyx\u001b[0m in \u001b[0;36mpandas._libs.lib.map_infer\u001b[0;34m()\u001b[0m\n",
            "\u001b[0;32m<ipython-input-10-95ae76a7b2d5>\u001b[0m in \u001b[0;36m<lambda>\u001b[0;34m(x)\u001b[0m\n\u001b[0;32m----> 1\u001b[0;31m \u001b[0mlenta\u001b[0m\u001b[0;34m[\u001b[0m\u001b[0;34m'lemmas'\u001b[0m\u001b[0;34m]\u001b[0m \u001b[0;34m=\u001b[0m \u001b[0mlenta\u001b[0m\u001b[0;34m.\u001b[0m\u001b[0mlemmas\u001b[0m\u001b[0;34m.\u001b[0m\u001b[0mapply\u001b[0m\u001b[0;34m(\u001b[0m\u001b[0;32mlambda\u001b[0m \u001b[0mx\u001b[0m\u001b[0;34m:\u001b[0m  \u001b[0;34m' '\u001b[0m\u001b[0;34m.\u001b[0m\u001b[0mjoin\u001b[0m\u001b[0;34m(\u001b[0m\u001b[0;34m[\u001b[0m\u001b[0mi\u001b[0m \u001b[0;32mfor\u001b[0m \u001b[0mi\u001b[0m \u001b[0;32min\u001b[0m \u001b[0mx\u001b[0m\u001b[0;34m]\u001b[0m\u001b[0;34m)\u001b[0m\u001b[0;34m)\u001b[0m\u001b[0;34m\u001b[0m\u001b[0;34m\u001b[0m\u001b[0m\n\u001b[0m\u001b[1;32m      2\u001b[0m \u001b[0mlenta\u001b[0m\u001b[0;34m.\u001b[0m\u001b[0mhead\u001b[0m\u001b[0;34m(\u001b[0m\u001b[0;34m)\u001b[0m\u001b[0;34m\u001b[0m\u001b[0;34m\u001b[0m\u001b[0m\n",
            "\u001b[0;31mTypeError\u001b[0m: 'float' object is not iterable"
          ]
        }
      ]
    },
    {
      "cell_type": "code",
      "metadata": {
        "colab_type": "code",
        "id": "i4Mxc1k1XzMf",
        "colab": {}
      },
      "source": [
        "lenta[['lemmas', 'topic']].to_csv('lemmatized.csv', index=False)"
      ],
      "execution_count": 0,
      "outputs": []
    },
    {
      "cell_type": "markdown",
      "metadata": {
        "id": "ZJOLpeDI5HDu",
        "colab_type": "text"
      },
      "source": [
        "## avg w2v"
      ]
    },
    {
      "cell_type": "code",
      "metadata": {
        "id": "GjI_DXPC5HDv",
        "colab_type": "code",
        "colab": {},
        "outputId": "5ab33a16-264b-4065-b349-a6a52945c93e"
      },
      "source": [
        "! wget http://vectors.nlpl.eu/repository/20/187.zip"
      ],
      "execution_count": 0,
      "outputs": [
        {
          "output_type": "stream",
          "text": [
            "--2020-04-30 09:14:00--  http://vectors.nlpl.eu/repository/20/187.zip\n",
            "Resolving vectors.nlpl.eu (vectors.nlpl.eu)... 129.240.189.225\n",
            "Connecting to vectors.nlpl.eu (vectors.nlpl.eu)|129.240.189.225|:80... connected.\n",
            "HTTP request sent, awaiting response... 200 OK\n",
            "Length: 2692389554 (2.5G) [application/zip]\n",
            "Saving to: ‘187.zip’\n",
            "\n",
            "100%[====================================>] 2,692,389,554 11.9MB/s   in 4m 37s \n",
            "\n",
            "2020-04-30 09:18:38 (9.26 MB/s) - ‘187.zip’ saved [2692389554/2692389554]\n",
            "\n"
          ],
          "name": "stdout"
        }
      ]
    },
    {
      "cell_type": "code",
      "metadata": {
        "id": "f9B1aiOp5HDx",
        "colab_type": "code",
        "colab": {}
      },
      "source": [
        "import zipfile\n",
        "with zipfile.ZipFile('187.zip', 'r') as zip_ref:\n",
        "    zip_ref.extractall('w2v_model/')"
      ],
      "execution_count": 0,
      "outputs": []
    },
    {
      "cell_type": "code",
      "metadata": {
        "id": "KTmzc2x55HDz",
        "colab_type": "code",
        "colab": {}
      },
      "source": [
        "import gensim \n",
        "from gensim.models import word2vec \n",
        "\n",
        "\n",
        "model_path = 'w2v_model/model.model'\n",
        "\n",
        "model_ru = gensim.models.KeyedVectors.load(model_path)"
      ],
      "execution_count": 0,
      "outputs": []
    },
    {
      "cell_type": "code",
      "metadata": {
        "id": "fmaxxgsG5HD1",
        "colab_type": "code",
        "colab": {},
        "outputId": "438148a0-fc26-462a-bdaa-1caad5bfb61a"
      },
      "source": [
        "model_ru['монеточка'][:10]"
      ],
      "execution_count": 0,
      "outputs": [
        {
          "output_type": "execute_result",
          "data": {
            "text/plain": [
              "array([-0.24568336,  1.2996082 ,  0.57665306,  1.8290797 ,  0.39956525,\n",
              "       -0.02574062, -0.16593023,  0.5755158 , -0.97565746,  2.4338129 ],\n",
              "      dtype=float32)"
            ]
          },
          "metadata": {
            "tags": []
          },
          "execution_count": 53
        }
      ]
    },
    {
      "cell_type": "code",
      "metadata": {
        "id": "LJkpFrG35HD4",
        "colab_type": "code",
        "colab": {},
        "outputId": "66e77e91-3c5a-47fe-f591-6902c1e5e528"
      },
      "source": [
        "len(model_ru['монеточка'])"
      ],
      "execution_count": 0,
      "outputs": [
        {
          "output_type": "execute_result",
          "data": {
            "text/plain": [
              "300"
            ]
          },
          "metadata": {
            "tags": []
          },
          "execution_count": 54
        }
      ]
    },
    {
      "cell_type": "code",
      "metadata": {
        "id": "b-85mXKj5HD7",
        "colab_type": "code",
        "colab": {}
      },
      "source": [
        "import numpy as np\n",
        "def get_avg_embedding(text, model = model_ru):\n",
        "    if isinstance(text, str):\n",
        "        words = text.split()\n",
        "        c = 0\n",
        "        vec = np.zeros(300)\n",
        "        for w in words:\n",
        "            vec += model[w]\n",
        "        if len(words):\n",
        "            vec = vec / len(words)\n",
        "            return vec\n",
        "        else:\n",
        "            return np.zeros(300)\n",
        "    return np.zeros(300)"
      ],
      "execution_count": 0,
      "outputs": []
    },
    {
      "cell_type": "code",
      "metadata": {
        "id": "9kqGlb-s5HD-",
        "colab_type": "code",
        "colab": {},
        "outputId": "2d31a19d-1743-4a47-9dce-eef914762a46"
      },
      "source": [
        "get_avg_embedding('я иду домой есть пирожки')"
      ],
      "execution_count": 0,
      "outputs": [
        {
          "output_type": "execute_result",
          "data": {
            "text/plain": [
              "array([ 0.09322592,  0.96203394,  0.59418345, -0.27382224,  0.23096753,\n",
              "       -0.94382048,  0.321128  , -0.41682359, -1.15042249,  1.31867643,\n",
              "       -1.18423665, -0.12895398,  0.36244778,  1.04054665, -1.39815475,\n",
              "        0.05231342,  1.95948308,  0.88611201, -0.72135888,  0.84086897,\n",
              "        0.65109519,  0.0196041 , -1.15615925, -0.93316307, -1.48000474,\n",
              "        1.52881389,  0.97408531,  1.01387843,  0.39935729,  0.08648463,\n",
              "        0.84739794,  0.4495558 , -0.23355194,  0.26153612, -0.91979943,\n",
              "        0.70217758, -0.09281321, -0.34745254, -1.2370256 , -0.85935306,\n",
              "        0.18128468,  0.89549725, -0.28527589, -0.08020033, -0.06996629,\n",
              "       -0.75018733, -0.16368707,  0.47830083, -1.51660514, -0.52826488,\n",
              "       -0.15057356, -0.1468262 , -0.39582176, -0.57264404, -0.69365329,\n",
              "        0.34750734, -0.25069273, -0.71260436, -0.96816917,  0.66779003,\n",
              "       -0.97526909,  0.99993023,  0.12624577,  0.51852878, -0.62567329,\n",
              "       -1.72503577,  1.43138344,  0.25398048, -0.84152109, -0.74119764,\n",
              "        1.03673563,  0.03198557, -0.86636148,  1.20588213,  0.48414596,\n",
              "       -1.08235826,  1.00706977,  0.65272378, -0.84590502,  0.00829267,\n",
              "       -0.75533267, -0.27253053, -0.35760353, -0.68883231,  0.0420292 ,\n",
              "       -0.80206242,  1.60226813,  0.18127534, -0.12250367, -0.81554537,\n",
              "       -1.29726454,  0.6317165 ,  0.28235123, -1.2497805 , -2.07255123,\n",
              "       -1.45969989, -0.72696831,  1.1850559 ,  0.92779972, -0.23695317,\n",
              "        1.9574601 ,  2.06841455, -0.18874785, -1.51414614,  1.59892114,\n",
              "        0.66914888, -0.63228452,  1.87159549, -0.47717018,  0.31379193,\n",
              "       -0.72837832, -0.78050879,  0.01828674, -0.46922036, -0.14347448,\n",
              "        0.85712739, -0.83433149, -0.53061256,  0.63939869,  0.12701058,\n",
              "        0.33260843, -2.06805431,  0.88221599,  0.2514334 , -0.56941015,\n",
              "       -0.97118451, -0.31866384,  0.29586742,  0.83040943, -0.50561425,\n",
              "        0.36087904, -1.38426149,  0.44051868,  0.41224704,  0.64812385,\n",
              "       -0.48901364, -0.19225768,  0.65178375, -0.64453949,  0.61575101,\n",
              "        0.66105377, -0.22507854,  0.21483708,  0.77178907, -2.34549413,\n",
              "       -0.83557661, -0.24945384, -1.66257637,  0.1862835 , -1.08326839,\n",
              "        0.33875382,  0.16292017, -0.14964734,  0.11836301,  0.31661903,\n",
              "       -1.84606373, -0.36395857, -0.4459947 , -0.82927228,  0.59967849,\n",
              "       -0.59032931, -1.23340563,  0.48566276, -0.57729226, -1.41538647,\n",
              "        0.2360364 , -1.06020565,  0.80151471,  0.43404826,  0.0940982 ,\n",
              "        0.38771642, -0.46056326,  0.52939808,  2.01201456,  0.0628817 ,\n",
              "       -0.05662343, -0.52400209,  0.08170312,  0.84599668, -0.06419233,\n",
              "       -1.18716246, -0.92399982,  0.25791108,  1.46746814,  0.83993266,\n",
              "       -0.66811827,  0.82166298, -0.21937097, -1.18456409,  0.30718756,\n",
              "       -0.17591622, -0.28056457, -0.57308295, -0.25484654, -0.85752689,\n",
              "       -0.08590424, -0.67552756, -0.01322682,  0.80630167,  0.61010583,\n",
              "       -0.52949585, -0.74728995,  0.11215279, -1.12812646,  0.49535499,\n",
              "        0.66710505, -0.61163548,  0.55697081,  0.78711388, -1.04767994,\n",
              "       -0.65200675, -0.51339603,  0.09258277, -0.16576777, -0.52860162,\n",
              "       -0.98610289, -1.16079712,  1.81941519,  0.33506806,  0.96763172,\n",
              "       -0.52806868, -0.36976983, -1.33807338,  0.64219727, -0.13544904,\n",
              "       -0.78247141,  1.22975359,  0.20194276, -2.32653271, -1.6153943 ,\n",
              "       -0.12880512,  0.85538617,  0.6135227 ,  0.06317193,  1.35435628,\n",
              "       -0.02231495,  1.20475788, -0.14664271,  0.50436313, -0.05370425,\n",
              "        0.54182497, -0.68774375, -2.06788803,  0.15536062,  1.76348684,\n",
              "       -0.94792497, -0.10191159, -0.62672161,  0.20562195, -0.30542855,\n",
              "       -0.4600302 ,  1.0897679 ,  0.43741058,  0.0625714 ,  1.09302559,\n",
              "        1.07233759, -1.21192631,  0.04057153,  1.61306802, -0.7277744 ,\n",
              "       -0.56216334, -0.32450407,  0.93044751,  0.51595743,  0.66791552,\n",
              "       -1.23489907, -0.24570242, -0.09759892, -0.89768252, -0.17862345,\n",
              "       -0.24059533,  0.42968671, -0.0837211 , -2.03506272,  0.44234284,\n",
              "       -0.58690858,  0.33852854, -0.67628804, -0.6406567 ,  1.10087361,\n",
              "        0.059221  , -0.23629248,  0.60356186,  0.59005351, -1.24747245,\n",
              "       -0.62420782, -0.8655726 ,  0.07254669,  0.24640994, -1.17513387,\n",
              "        0.07210791,  0.46988076,  0.5043072 ,  0.73523614, -0.62557402,\n",
              "        0.59611533,  0.75755081, -0.50755797,  0.53541277,  0.60526201])"
            ]
          },
          "metadata": {
            "tags": []
          },
          "execution_count": 65
        }
      ]
    },
    {
      "cell_type": "code",
      "metadata": {
        "id": "iq3BZHc45HEA",
        "colab_type": "code",
        "colab": {
          "referenced_widgets": [
            "7a9b7af0a01a4f19b50bc03ff4ce5622"
          ]
        },
        "outputId": "e09e9534-48be-4063-8b07-a1631a7c889e"
      },
      "source": [
        "with Pool(8) as p:\n",
        "    vecs = list(tqdm(p.imap(get_avg_embedding, lenta['lemmas']), total=len(lenta)))\n",
        "\n",
        "    \n",
        "lenta['avg_vec'] = vecs\n",
        "lenta.head()"
      ],
      "execution_count": 0,
      "outputs": [
        {
          "output_type": "display_data",
          "data": {
            "application/vnd.jupyter.widget-view+json": {
              "model_id": "7a9b7af0a01a4f19b50bc03ff4ce5622",
              "version_major": 2,
              "version_minor": 0
            },
            "text/plain": [
              "HBox(children=(IntProgress(value=0, max=100000), HTML(value='')))"
            ]
          },
          "metadata": {
            "tags": []
          }
        },
        {
          "output_type": "stream",
          "text": [
            "\n"
          ],
          "name": "stdout"
        },
        {
          "output_type": "execute_result",
          "data": {
            "text/html": [
              "<div>\n",
              "<style scoped>\n",
              "    .dataframe tbody tr th:only-of-type {\n",
              "        vertical-align: middle;\n",
              "    }\n",
              "\n",
              "    .dataframe tbody tr th {\n",
              "        vertical-align: top;\n",
              "    }\n",
              "\n",
              "    .dataframe thead th {\n",
              "        text-align: right;\n",
              "    }\n",
              "</style>\n",
              "<table border=\"1\" class=\"dataframe\">\n",
              "  <thead>\n",
              "    <tr style=\"text-align: right;\">\n",
              "      <th></th>\n",
              "      <th>title</th>\n",
              "      <th>text</th>\n",
              "      <th>topic</th>\n",
              "      <th>topic_label</th>\n",
              "      <th>lemmas</th>\n",
              "      <th>avg_vec</th>\n",
              "    </tr>\n",
              "  </thead>\n",
              "  <tbody>\n",
              "    <tr>\n",
              "      <th>0</th>\n",
              "      <td>Инфляция в январе 2006 года составит 2,6 процента</td>\n",
              "      <td>Глава Росстата Владимир Соколин заявил, что в ...</td>\n",
              "      <td>Экономика</td>\n",
              "      <td>0</td>\n",
              "      <td>глава росстат владимир соколиный январь темп р...</td>\n",
              "      <td>[0.16688824101952435, -0.2846602177884005, 0.7...</td>\n",
              "    </tr>\n",
              "    <tr>\n",
              "      <th>1</th>\n",
              "      <td>Никита Михалков учредил День российского кино</td>\n",
              "      <td>У российских кинематографистов  появится новый...</td>\n",
              "      <td>Культура</td>\n",
              "      <td>3</td>\n",
              "      <td>российский кинематографист появиться новый про...</td>\n",
              "      <td>[1.0043369824281678, 0.03792253824380728, -0.0...</td>\n",
              "    </tr>\n",
              "    <tr>\n",
              "      <th>2</th>\n",
              "      <td>Марко Матерацци вернется в строй к матчу с ЦСКА</td>\n",
              "      <td>Медицинский штаб миланского \"Интера\" обнародов...</td>\n",
              "      <td>Спорт</td>\n",
              "      <td>1</td>\n",
              "      <td>медицинский штаб миланский обнародовать новое ...</td>\n",
              "      <td>[1.210477464125458, 0.047426638967660535, 0.68...</td>\n",
              "    </tr>\n",
              "    <tr>\n",
              "      <th>3</th>\n",
              "      <td>Определены лауреаты премии \"Книга года\"</td>\n",
              "      <td>Премии \"Книга года\" в 13 номинациях вручены на...</td>\n",
              "      <td>Культура</td>\n",
              "      <td>3</td>\n",
              "      <td>премия номинация вручить московский международ...</td>\n",
              "      <td>[0.943377378694329, -1.238564177272246, 0.0400...</td>\n",
              "    </tr>\n",
              "    <tr>\n",
              "      <th>4</th>\n",
              "      <td>Гол Роналду со штрафного спас португальцев от ...</td>\n",
              "      <td>Сборная Португалии сыграла вничью с командой И...</td>\n",
              "      <td>Спорт</td>\n",
              "      <td>1</td>\n",
              "      <td>сборная португалия сыграть вничью команда испа...</td>\n",
              "      <td>[0.5890408798130518, 0.5553445452728223, 0.297...</td>\n",
              "    </tr>\n",
              "  </tbody>\n",
              "</table>\n",
              "</div>"
            ],
            "text/plain": [
              "                                               title  \\\n",
              "0  Инфляция в январе 2006 года составит 2,6 процента   \n",
              "1      Никита Михалков учредил День российского кино   \n",
              "2    Марко Матерацци вернется в строй к матчу с ЦСКА   \n",
              "3            Определены лауреаты премии \"Книга года\"   \n",
              "4  Гол Роналду со штрафного спас португальцев от ...   \n",
              "\n",
              "                                                text      topic  topic_label  \\\n",
              "0  Глава Росстата Владимир Соколин заявил, что в ...  Экономика            0   \n",
              "1  У российских кинематографистов  появится новый...   Культура            3   \n",
              "2  Медицинский штаб миланского \"Интера\" обнародов...      Спорт            1   \n",
              "3  Премии \"Книга года\" в 13 номинациях вручены на...   Культура            3   \n",
              "4  Сборная Португалии сыграла вничью с командой И...      Спорт            1   \n",
              "\n",
              "                                              lemmas  \\\n",
              "0  глава росстат владимир соколиный январь темп р...   \n",
              "1  российский кинематографист появиться новый про...   \n",
              "2  медицинский штаб миланский обнародовать новое ...   \n",
              "3  премия номинация вручить московский международ...   \n",
              "4  сборная португалия сыграть вничью команда испа...   \n",
              "\n",
              "                                             avg_vec  \n",
              "0  [0.16688824101952435, -0.2846602177884005, 0.7...  \n",
              "1  [1.0043369824281678, 0.03792253824380728, -0.0...  \n",
              "2  [1.210477464125458, 0.047426638967660535, 0.68...  \n",
              "3  [0.943377378694329, -1.238564177272246, 0.0400...  \n",
              "4  [0.5890408798130518, 0.5553445452728223, 0.297...  "
            ]
          },
          "metadata": {
            "tags": []
          },
          "execution_count": 66
        }
      ]
    },
    {
      "cell_type": "code",
      "metadata": {
        "id": "JPX6HyHY5HEC",
        "colab_type": "code",
        "colab": {}
      },
      "source": [
        "x_train, x_test, y_train, y_test = train_test_split(lenta.avg_vec, lenta.topic_label)"
      ],
      "execution_count": 0,
      "outputs": []
    },
    {
      "cell_type": "code",
      "metadata": {
        "id": "hRVTwKc55HEE",
        "colab_type": "code",
        "colab": {}
      },
      "source": [
        "x_train = list(x_train)\n",
        "y_train = list(y_train)"
      ],
      "execution_count": 0,
      "outputs": []
    },
    {
      "cell_type": "code",
      "metadata": {
        "id": "57FYMNtc5HEG",
        "colab_type": "code",
        "colab": {},
        "outputId": "aaa3ee97-a5b1-48fe-cc34-3491032a94f4"
      },
      "source": [
        "from sklearn.linear_model import LogisticRegression\n",
        "\n",
        "LR = LogisticRegression(random_state=0, solver='lbfgs', multi_class='multinomial', max_iter=400)\n",
        "LR.fit(x_train, y_train)"
      ],
      "execution_count": 0,
      "outputs": [
        {
          "output_type": "stream",
          "text": [
            "/home/jnb/anaconda3/lib/python3.7/site-packages/sklearn/linear_model/_logistic.py:940: ConvergenceWarning: lbfgs failed to converge (status=1):\n",
            "STOP: TOTAL NO. of ITERATIONS REACHED LIMIT.\n",
            "\n",
            "Increase the number of iterations (max_iter) or scale the data as shown in:\n",
            "    https://scikit-learn.org/stable/modules/preprocessing.html\n",
            "Please also refer to the documentation for alternative solver options:\n",
            "    https://scikit-learn.org/stable/modules/linear_model.html#logistic-regression\n",
            "  extra_warning_msg=_LOGISTIC_SOLVER_CONVERGENCE_MSG)\n"
          ],
          "name": "stderr"
        },
        {
          "output_type": "execute_result",
          "data": {
            "text/plain": [
              "LogisticRegression(C=1.0, class_weight=None, dual=False, fit_intercept=True,\n",
              "                   intercept_scaling=1, l1_ratio=None, max_iter=400,\n",
              "                   multi_class='multinomial', n_jobs=None, penalty='l2',\n",
              "                   random_state=0, solver='lbfgs', tol=0.0001, verbose=0,\n",
              "                   warm_start=False)"
            ]
          },
          "metadata": {
            "tags": []
          },
          "execution_count": 91
        }
      ]
    },
    {
      "cell_type": "code",
      "metadata": {
        "id": "QGQYpDdo5HEI",
        "colab_type": "code",
        "colab": {}
      },
      "source": [
        "x_test = list(x_test)\n",
        "y_test = list(y_test)"
      ],
      "execution_count": 0,
      "outputs": []
    },
    {
      "cell_type": "code",
      "metadata": {
        "id": "cnvneQ7u5HEL",
        "colab_type": "code",
        "colab": {},
        "outputId": "044dd976-a558-43a5-d4ad-68339c0eb655"
      },
      "source": [
        "from sklearn.metrics import classification_report\n",
        "\n",
        "y_pred = LR.predict(x_test)\n",
        "\n",
        "print(classification_report(y_test, y_pred))"
      ],
      "execution_count": 0,
      "outputs": [
        {
          "output_type": "stream",
          "text": [
            "              precision    recall  f1-score   support\n",
            "\n",
            "           0       0.90      0.96      0.93      7734\n",
            "           1       0.99      0.99      0.99      6217\n",
            "           2       0.94      0.94      0.94      4979\n",
            "           3       0.97      0.97      0.97      5344\n",
            "           4       0.51      0.16      0.24       726\n",
            "\n",
            "    accuracy                           0.94     25000\n",
            "   macro avg       0.86      0.80      0.81     25000\n",
            "weighted avg       0.93      0.94      0.94     25000\n",
            "\n"
          ],
          "name": "stdout"
        }
      ]
    },
    {
      "cell_type": "code",
      "metadata": {
        "id": "gOozg-xY5HEO",
        "colab_type": "code",
        "colab": {},
        "outputId": "d7f601a9-5c15-40a9-ffd0-4d5bcc95f9e3"
      },
      "source": [
        "y_pred[:10]"
      ],
      "execution_count": 0,
      "outputs": [
        {
          "output_type": "execute_result",
          "data": {
            "text/plain": [
              "array([2, 3, 1, 2, 3, 0, 2, 0, 1, 3])"
            ]
          },
          "metadata": {
            "tags": []
          },
          "execution_count": 94
        }
      ]
    },
    {
      "cell_type": "markdown",
      "metadata": {
        "colab_type": "text",
        "id": "zod6MXRXxnYV"
      },
      "source": [
        "Нам нужно проделать все те же преобразования с текстом, что и для обучающей выборки:"
      ]
    },
    {
      "cell_type": "code",
      "metadata": {
        "id": "NsbwK5Fk5HER",
        "colab_type": "code",
        "colab": {}
      },
      "source": [
        "! wget -O lenta-ru-test.csv https://www.dropbox.com/s/9av90tgqob1slnj/lenta-ru-test.csv?dl=0"
      ],
      "execution_count": 0,
      "outputs": []
    },
    {
      "cell_type": "code",
      "metadata": {
        "colab_type": "code",
        "id": "_VeYXYOmk-pR",
        "scrolled": true,
        "colab": {},
        "outputId": "19b4f320-4687-41ab-f545-a1c118f60281"
      },
      "source": [
        "test_data = pd.read_csv('lenta-ru-test.csv')\n",
        "\n",
        "test_data.head()"
      ],
      "execution_count": 0,
      "outputs": [
        {
          "output_type": "execute_result",
          "data": {
            "text/html": [
              "<div>\n",
              "<style scoped>\n",
              "    .dataframe tbody tr th:only-of-type {\n",
              "        vertical-align: middle;\n",
              "    }\n",
              "\n",
              "    .dataframe tbody tr th {\n",
              "        vertical-align: top;\n",
              "    }\n",
              "\n",
              "    .dataframe thead th {\n",
              "        text-align: right;\n",
              "    }\n",
              "</style>\n",
              "<table border=\"1\" class=\"dataframe\">\n",
              "  <thead>\n",
              "    <tr style=\"text-align: right;\">\n",
              "      <th></th>\n",
              "      <th>title</th>\n",
              "      <th>text</th>\n",
              "    </tr>\n",
              "  </thead>\n",
              "  <tbody>\n",
              "    <tr>\n",
              "      <th>0</th>\n",
              "      <td>Сборная России выиграла чемпионат мира по футб...</td>\n",
              "      <td>В южноафриканском Кейптауне победой сборной Ро...</td>\n",
              "    </tr>\n",
              "    <tr>\n",
              "      <th>1</th>\n",
              "      <td>Анна Курникова снова проиграла в первом раунде</td>\n",
              "      <td>Анна Курникова, проиграв испанке Кончите Марти...</td>\n",
              "    </tr>\n",
              "    <tr>\n",
              "      <th>2</th>\n",
              "      <td>Новым главным тренером \"Спартака\" стал Станисл...</td>\n",
              "      <td>Новым главным тренером московского футбольного...</td>\n",
              "    </tr>\n",
              "    <tr>\n",
              "      <th>3</th>\n",
              "      <td>Майкл Дуглас совершил неожиданный визит на Кубу</td>\n",
              "      <td>Известный голливудский актер Майкл Дуглас сове...</td>\n",
              "    </tr>\n",
              "    <tr>\n",
              "      <th>4</th>\n",
              "      <td>Кадыров снялся в короткометражке «Волшебный гр...</td>\n",
              "      <td>Глава Чеченской Республики Рамзан Кадыров снял...</td>\n",
              "    </tr>\n",
              "  </tbody>\n",
              "</table>\n",
              "</div>"
            ],
            "text/plain": [
              "                                               title  \\\n",
              "0  Сборная России выиграла чемпионат мира по футб...   \n",
              "1     Анна Курникова снова проиграла в первом раунде   \n",
              "2  Новым главным тренером \"Спартака\" стал Станисл...   \n",
              "3    Майкл Дуглас совершил неожиданный визит на Кубу   \n",
              "4  Кадыров снялся в короткометражке «Волшебный гр...   \n",
              "\n",
              "                                                text  \n",
              "0  В южноафриканском Кейптауне победой сборной Ро...  \n",
              "1  Анна Курникова, проиграв испанке Кончите Марти...  \n",
              "2  Новым главным тренером московского футбольного...  \n",
              "3  Известный голливудский актер Майкл Дуглас сове...  \n",
              "4  Глава Чеченской Республики Рамзан Кадыров снял...  "
            ]
          },
          "metadata": {
            "tags": []
          },
          "execution_count": 21
        }
      ]
    },
    {
      "cell_type": "code",
      "metadata": {
        "colab_type": "code",
        "id": "sEXMLEp7xnYW",
        "colab": {
          "referenced_widgets": [
            "2b053951200046fa98c488429432bceb"
          ]
        },
        "outputId": "6b491de4-a723-4016-bed1-53243b9dc382"
      },
      "source": [
        "with Pool(8) as p:\n",
        "    lemmas = list(tqdm(p.imap(preprocess, test_data['text']), total=len(test_data)))\n",
        "\n",
        "    \n",
        "test_data['lemmas'] = lemmas\n",
        "test_data.head()"
      ],
      "execution_count": 0,
      "outputs": [
        {
          "output_type": "display_data",
          "data": {
            "application/vnd.jupyter.widget-view+json": {
              "model_id": "2b053951200046fa98c488429432bceb",
              "version_major": 2,
              "version_minor": 0
            },
            "text/plain": [
              "HBox(children=(IntProgress(value=0, max=51660), HTML(value='')))"
            ]
          },
          "metadata": {
            "tags": []
          }
        },
        {
          "output_type": "stream",
          "text": [
            "\n"
          ],
          "name": "stdout"
        },
        {
          "output_type": "execute_result",
          "data": {
            "text/html": [
              "<div>\n",
              "<style scoped>\n",
              "    .dataframe tbody tr th:only-of-type {\n",
              "        vertical-align: middle;\n",
              "    }\n",
              "\n",
              "    .dataframe tbody tr th {\n",
              "        vertical-align: top;\n",
              "    }\n",
              "\n",
              "    .dataframe thead th {\n",
              "        text-align: right;\n",
              "    }\n",
              "</style>\n",
              "<table border=\"1\" class=\"dataframe\">\n",
              "  <thead>\n",
              "    <tr style=\"text-align: right;\">\n",
              "      <th></th>\n",
              "      <th>title</th>\n",
              "      <th>text</th>\n",
              "      <th>lemmas</th>\n",
              "    </tr>\n",
              "  </thead>\n",
              "  <tbody>\n",
              "    <tr>\n",
              "      <th>0</th>\n",
              "      <td>Сборная России выиграла чемпионат мира по футб...</td>\n",
              "      <td>В южноафриканском Кейптауне победой сборной Ро...</td>\n",
              "      <td>[южноафриканский, кейптаун, победа, сборный, р...</td>\n",
              "    </tr>\n",
              "    <tr>\n",
              "      <th>1</th>\n",
              "      <td>Анна Курникова снова проиграла в первом раунде</td>\n",
              "      <td>Анна Курникова, проиграв испанке Кончите Марти...</td>\n",
              "      <td>[анна, проиграть, испанка, кончить, мартинес, ...</td>\n",
              "    </tr>\n",
              "    <tr>\n",
              "      <th>2</th>\n",
              "      <td>Новым главным тренером \"Спартака\" стал Станисл...</td>\n",
              "      <td>Новым главным тренером московского футбольного...</td>\n",
              "      <td>[новый, главное, тренер, московский, футбольны...</td>\n",
              "    </tr>\n",
              "    <tr>\n",
              "      <th>3</th>\n",
              "      <td>Майкл Дуглас совершил неожиданный визит на Кубу</td>\n",
              "      <td>Известный голливудский актер Майкл Дуглас сове...</td>\n",
              "      <td>[известный, голливудский, актёр, майкл, дуглас...</td>\n",
              "    </tr>\n",
              "    <tr>\n",
              "      <th>4</th>\n",
              "      <td>Кадыров снялся в короткометражке «Волшебный гр...</td>\n",
              "      <td>Глава Чеченской Республики Рамзан Кадыров снял...</td>\n",
              "      <td>[глава, чеченский, республика, рамзан, кадыров...</td>\n",
              "    </tr>\n",
              "  </tbody>\n",
              "</table>\n",
              "</div>"
            ],
            "text/plain": [
              "                                               title  \\\n",
              "0  Сборная России выиграла чемпионат мира по футб...   \n",
              "1     Анна Курникова снова проиграла в первом раунде   \n",
              "2  Новым главным тренером \"Спартака\" стал Станисл...   \n",
              "3    Майкл Дуглас совершил неожиданный визит на Кубу   \n",
              "4  Кадыров снялся в короткометражке «Волшебный гр...   \n",
              "\n",
              "                                                text  \\\n",
              "0  В южноафриканском Кейптауне победой сборной Ро...   \n",
              "1  Анна Курникова, проиграв испанке Кончите Марти...   \n",
              "2  Новым главным тренером московского футбольного...   \n",
              "3  Известный голливудский актер Майкл Дуглас сове...   \n",
              "4  Глава Чеченской Республики Рамзан Кадыров снял...   \n",
              "\n",
              "                                              lemmas  \n",
              "0  [южноафриканский, кейптаун, победа, сборный, р...  \n",
              "1  [анна, проиграть, испанка, кончить, мартинес, ...  \n",
              "2  [новый, главное, тренер, московский, футбольны...  \n",
              "3  [известный, голливудский, актёр, майкл, дуглас...  \n",
              "4  [глава, чеченский, республика, рамзан, кадыров...  "
            ]
          },
          "metadata": {
            "tags": []
          },
          "execution_count": 23
        }
      ]
    },
    {
      "cell_type": "code",
      "metadata": {
        "colab_type": "code",
        "id": "XkgQJOVWxnYZ",
        "colab": {}
      },
      "source": [
        "test_data['lemmas'] = test_data.lemmas.apply(lambda x:  ' '.join([i for i in x]))\n",
        "test_data.to_csv('lemmatized_test.csv', index=False)"
      ],
      "execution_count": 0,
      "outputs": []
    },
    {
      "cell_type": "code",
      "metadata": {
        "id": "Seoz7b5g5HEY",
        "colab_type": "code",
        "colab": {},
        "outputId": "8b5314fb-edf8-46ca-fdaf-5367be190135"
      },
      "source": [
        "test_data = pd.read_csv('lemmatized_test.csv')\n",
        "test_data.head(2)"
      ],
      "execution_count": 0,
      "outputs": [
        {
          "output_type": "execute_result",
          "data": {
            "text/html": [
              "<div>\n",
              "<style scoped>\n",
              "    .dataframe tbody tr th:only-of-type {\n",
              "        vertical-align: middle;\n",
              "    }\n",
              "\n",
              "    .dataframe tbody tr th {\n",
              "        vertical-align: top;\n",
              "    }\n",
              "\n",
              "    .dataframe thead th {\n",
              "        text-align: right;\n",
              "    }\n",
              "</style>\n",
              "<table border=\"1\" class=\"dataframe\">\n",
              "  <thead>\n",
              "    <tr style=\"text-align: right;\">\n",
              "      <th></th>\n",
              "      <th>title</th>\n",
              "      <th>text</th>\n",
              "      <th>lemmas</th>\n",
              "    </tr>\n",
              "  </thead>\n",
              "  <tbody>\n",
              "    <tr>\n",
              "      <th>0</th>\n",
              "      <td>Сборная России выиграла чемпионат мира по футб...</td>\n",
              "      <td>В южноафриканском Кейптауне победой сборной Ро...</td>\n",
              "      <td>южноафриканский кейптаун победа сборный россия...</td>\n",
              "    </tr>\n",
              "    <tr>\n",
              "      <th>1</th>\n",
              "      <td>Анна Курникова снова проиграла в первом раунде</td>\n",
              "      <td>Анна Курникова, проиграв испанке Кончите Марти...</td>\n",
              "      <td>анна проиграть испанка кончить мартинес первое...</td>\n",
              "    </tr>\n",
              "  </tbody>\n",
              "</table>\n",
              "</div>"
            ],
            "text/plain": [
              "                                               title  \\\n",
              "0  Сборная России выиграла чемпионат мира по футб...   \n",
              "1     Анна Курникова снова проиграла в первом раунде   \n",
              "\n",
              "                                                text  \\\n",
              "0  В южноафриканском Кейптауне победой сборной Ро...   \n",
              "1  Анна Курникова, проиграв испанке Кончите Марти...   \n",
              "\n",
              "                                              lemmas  \n",
              "0  южноафриканский кейптаун победа сборный россия...  \n",
              "1  анна проиграть испанка кончить мартинес первое...  "
            ]
          },
          "metadata": {
            "tags": []
          },
          "execution_count": 103
        }
      ]
    },
    {
      "cell_type": "code",
      "metadata": {
        "id": "19FX3cuJ5HEa",
        "colab_type": "code",
        "colab": {
          "referenced_widgets": [
            "4b52e02649314748b9d61ba24cdfd11b"
          ]
        },
        "outputId": "f6534baf-3ca9-42de-d57d-8ca59a1c6782"
      },
      "source": [
        "with Pool(8) as p:\n",
        "    vecs = list(tqdm(p.imap(get_avg_embedding, test_data['lemmas']), total=len(lenta)))\n",
        "\n",
        "preds = LR.predict(list(vecs))\n",
        "preds[:10]"
      ],
      "execution_count": 0,
      "outputs": [
        {
          "output_type": "display_data",
          "data": {
            "application/vnd.jupyter.widget-view+json": {
              "model_id": "4b52e02649314748b9d61ba24cdfd11b",
              "version_major": 2,
              "version_minor": 0
            },
            "text/plain": [
              "HBox(children=(IntProgress(value=0, max=100000), HTML(value='')))"
            ]
          },
          "metadata": {
            "tags": []
          }
        },
        {
          "output_type": "execute_result",
          "data": {
            "text/plain": [
              "array([1, 1, 1, 3, 3, 0, 0, 1, 2, 0])"
            ]
          },
          "metadata": {
            "tags": []
          },
          "execution_count": 106
        }
      ]
    },
    {
      "cell_type": "code",
      "metadata": {
        "id": "nnVjV81A5HEc",
        "colab_type": "code",
        "colab": {},
        "outputId": "314c68ef-c1bb-4682-e0bd-92df3ca63dd2"
      },
      "source": [
        "preds = pd.DataFrame(preds)\n",
        "preds['index'] = preds.index\n",
        "preds['topic_label'] = preds[0]\n",
        "preds[['index', 'topic_label']].to_csv('solution_w2v.csv', index = None)\n",
        "preds.head(3)"
      ],
      "execution_count": 0,
      "outputs": [
        {
          "output_type": "execute_result",
          "data": {
            "text/html": [
              "<div>\n",
              "<style scoped>\n",
              "    .dataframe tbody tr th:only-of-type {\n",
              "        vertical-align: middle;\n",
              "    }\n",
              "\n",
              "    .dataframe tbody tr th {\n",
              "        vertical-align: top;\n",
              "    }\n",
              "\n",
              "    .dataframe thead th {\n",
              "        text-align: right;\n",
              "    }\n",
              "</style>\n",
              "<table border=\"1\" class=\"dataframe\">\n",
              "  <thead>\n",
              "    <tr style=\"text-align: right;\">\n",
              "      <th></th>\n",
              "      <th>0</th>\n",
              "      <th>index</th>\n",
              "      <th>topic_label</th>\n",
              "    </tr>\n",
              "  </thead>\n",
              "  <tbody>\n",
              "    <tr>\n",
              "      <th>0</th>\n",
              "      <td>1</td>\n",
              "      <td>0</td>\n",
              "      <td>1</td>\n",
              "    </tr>\n",
              "    <tr>\n",
              "      <th>1</th>\n",
              "      <td>1</td>\n",
              "      <td>1</td>\n",
              "      <td>1</td>\n",
              "    </tr>\n",
              "    <tr>\n",
              "      <th>2</th>\n",
              "      <td>1</td>\n",
              "      <td>2</td>\n",
              "      <td>1</td>\n",
              "    </tr>\n",
              "  </tbody>\n",
              "</table>\n",
              "</div>"
            ],
            "text/plain": [
              "   0  index  topic_label\n",
              "0  1      0            1\n",
              "1  1      1            1\n",
              "2  1      2            1"
            ]
          },
          "metadata": {
            "tags": []
          },
          "execution_count": 107
        }
      ]
    },
    {
      "cell_type": "markdown",
      "metadata": {
        "id": "aUBwbBEv5HEe",
        "colab_type": "text"
      },
      "source": [
        "### Test accuracy: 0.94171"
      ]
    },
    {
      "cell_type": "markdown",
      "metadata": {
        "id": "IAc28Owh5HEe",
        "colab_type": "text"
      },
      "source": [
        "## fastText"
      ]
    },
    {
      "cell_type": "code",
      "metadata": {
        "id": "6IrxqttV9r6e",
        "colab_type": "code",
        "colab": {
          "base_uri": "https://localhost:8080/",
          "height": 204
        },
        "outputId": "060d5b58-9207-4401-e09e-c5d4d84a5f10"
      },
      "source": [
        "lenta.head()"
      ],
      "execution_count": 11,
      "outputs": [
        {
          "output_type": "execute_result",
          "data": {
            "text/html": [
              "<div>\n",
              "<style scoped>\n",
              "    .dataframe tbody tr th:only-of-type {\n",
              "        vertical-align: middle;\n",
              "    }\n",
              "\n",
              "    .dataframe tbody tr th {\n",
              "        vertical-align: top;\n",
              "    }\n",
              "\n",
              "    .dataframe thead th {\n",
              "        text-align: right;\n",
              "    }\n",
              "</style>\n",
              "<table border=\"1\" class=\"dataframe\">\n",
              "  <thead>\n",
              "    <tr style=\"text-align: right;\">\n",
              "      <th></th>\n",
              "      <th>lemmas</th>\n",
              "      <th>topic</th>\n",
              "    </tr>\n",
              "  </thead>\n",
              "  <tbody>\n",
              "    <tr>\n",
              "      <th>0</th>\n",
              "      <td>глава росстат владимир соколиный январь темп р...</td>\n",
              "      <td>Экономика</td>\n",
              "    </tr>\n",
              "    <tr>\n",
              "      <th>1</th>\n",
              "      <td>российский кинематографист появиться новый про...</td>\n",
              "      <td>Культура</td>\n",
              "    </tr>\n",
              "    <tr>\n",
              "      <th>2</th>\n",
              "      <td>медицинский штаб миланский обнародовать новое ...</td>\n",
              "      <td>Спорт</td>\n",
              "    </tr>\n",
              "    <tr>\n",
              "      <th>3</th>\n",
              "      <td>премия номинация вручить московский международ...</td>\n",
              "      <td>Культура</td>\n",
              "    </tr>\n",
              "    <tr>\n",
              "      <th>4</th>\n",
              "      <td>сборная португалия сыграть вничью команда испа...</td>\n",
              "      <td>Спорт</td>\n",
              "    </tr>\n",
              "  </tbody>\n",
              "</table>\n",
              "</div>"
            ],
            "text/plain": [
              "                                              lemmas      topic\n",
              "0  глава росстат владимир соколиный январь темп р...  Экономика\n",
              "1  российский кинематографист появиться новый про...   Культура\n",
              "2  медицинский штаб миланский обнародовать новое ...      Спорт\n",
              "3  премия номинация вручить московский международ...   Культура\n",
              "4  сборная португалия сыграть вничью команда испа...      Спорт"
            ]
          },
          "metadata": {
            "tags": []
          },
          "execution_count": 11
        }
      ]
    },
    {
      "cell_type": "code",
      "metadata": {
        "id": "umx-cK465HEf",
        "colab_type": "code",
        "colab": {
          "base_uri": "https://localhost:8080/",
          "height": 309
        },
        "outputId": "684a2835-1123-448c-d728-0e79c2909b24"
      },
      "source": [
        "! git clone https://github.com/facebookresearch/fastText.git\n",
        "! pip3 install fastText/."
      ],
      "execution_count": 12,
      "outputs": [
        {
          "output_type": "stream",
          "text": [
            "Cloning into 'fastText'...\n",
            "remote: Enumerating objects: 3814, done.\u001b[K\n",
            "remote: Total 3814 (delta 0), reused 0 (delta 0), pack-reused 3814\u001b[K\n",
            "Receiving objects: 100% (3814/3814), 8.19 MiB | 31.43 MiB/s, done.\n",
            "Resolving deltas: 100% (2401/2401), done.\n",
            "Processing ./fastText\n",
            "Requirement already satisfied: pybind11>=2.2 in /usr/local/lib/python3.6/dist-packages (from fasttext==0.9.2) (2.5.0)\n",
            "Requirement already satisfied: setuptools>=0.7.0 in /usr/local/lib/python3.6/dist-packages (from fasttext==0.9.2) (46.1.3)\n",
            "Requirement already satisfied: numpy in /usr/local/lib/python3.6/dist-packages (from fasttext==0.9.2) (1.18.3)\n",
            "Building wheels for collected packages: fasttext\n",
            "  Building wheel for fasttext (setup.py) ... \u001b[?25l\u001b[?25hdone\n",
            "  Created wheel for fasttext: filename=fasttext-0.9.2-cp36-cp36m-linux_x86_64.whl size=3014028 sha256=e26570dd5e1b048f3c9208488b2f920827a185108759d57ad206f84e1d27a178\n",
            "  Stored in directory: /tmp/pip-ephem-wheel-cache-prmz1xlz/wheels/a1/9f/52/696ce6c5c46325e840c76614ee5051458c0df10306987e7443\n",
            "Successfully built fasttext\n",
            "Installing collected packages: fasttext\n",
            "Successfully installed fasttext-0.9.2\n"
          ],
          "name": "stdout"
        }
      ]
    },
    {
      "cell_type": "code",
      "metadata": {
        "id": "EFuZOJmu-U95",
        "colab_type": "code",
        "colab": {}
      },
      "source": [
        "import fasttext"
      ],
      "execution_count": 0,
      "outputs": []
    },
    {
      "cell_type": "code",
      "metadata": {
        "id": "_EqYMQb95HEh",
        "colab_type": "code",
        "colab": {
          "base_uri": "https://localhost:8080/",
          "height": 51
        },
        "outputId": "1a936d09-c0df-4521-a359-b35d0cccf0b0"
      },
      "source": [
        "import numpy as np\n",
        "from sklearn.model_selection import train_test_split\n",
        "X = lenta.lemmas.tolist()\n",
        "y = lenta.topic.tolist()\n",
        "\n",
        "X, y = np.array(X), np.array(y)\n",
        "\n",
        "# разбиваем на обучающую и тестовую выборки\n",
        "X_train, X_test, y_train, y_test = train_test_split(X,y, test_size=0.33)\n",
        "print (\"total train examples %s\" % len(y_train))\n",
        "print (\"total test examples %s\" % len(y_test))"
      ],
      "execution_count": 17,
      "outputs": [
        {
          "output_type": "stream",
          "text": [
            "total train examples 67000\n",
            "total test examples 33000\n"
          ],
          "name": "stdout"
        }
      ]
    },
    {
      "cell_type": "code",
      "metadata": {
        "id": "ae8W_Ffh5HEj",
        "colab_type": "code",
        "colab": {}
      },
      "source": [
        "with open('data.train.txt', 'w+') as outfile:\n",
        "    for i in range(len(X_train)):\n",
        "        outfile.write('__label__' + y_train[i] + ' '+ X_train[i] + '\\n')\n",
        "    \n",
        "\n",
        "with open('test.txt', 'w+') as outfile:\n",
        "    for i in range(len(X_test)):\n",
        "        outfile.write('__label__' + y_test[i] + ' ' + X_test[i] + '\\n')"
      ],
      "execution_count": 0,
      "outputs": []
    },
    {
      "cell_type": "code",
      "metadata": {
        "id": "upC5IlSI5HEn",
        "colab_type": "code",
        "colab": {}
      },
      "source": [
        "classifier = fasttext.train_supervised('data.train.txt')\n",
        "result = classifier.test('test.txt')"
      ],
      "execution_count": 0,
      "outputs": []
    },
    {
      "cell_type": "code",
      "metadata": {
        "id": "kSoTXhVj5HEp",
        "colab_type": "code",
        "colab": {
          "base_uri": "https://localhost:8080/",
          "height": 51
        },
        "outputId": "6b513ab3-5033-4d5e-919e-8f20245ee911"
      },
      "source": [
        "print('P@1:', result[1])\n",
        "print('R@1:', result[2])"
      ],
      "execution_count": 22,
      "outputs": [
        {
          "output_type": "stream",
          "text": [
            "P@1: 0.9702727272727273\n",
            "R@1: 0.9702727272727273\n"
          ],
          "name": "stdout"
        }
      ]
    },
    {
      "cell_type": "code",
      "metadata": {
        "id": "8niDyOhH-dCv",
        "colab_type": "code",
        "colab": {
          "base_uri": "https://localhost:8080/",
          "height": 34
        },
        "outputId": "2d1cab47-28bc-4959-c83a-5e02adf35567"
      },
      "source": [
        "test_data = pd.read_csv('lemmatized_test.csv').fillna('')\n",
        "test_data = list(test_data['lemmas'])\n",
        "\n",
        "preds = classifier.predict(test_data)\n",
        "preds = [i[0][9:] for i in preds[0]]\n",
        "preds[:5]"
      ],
      "execution_count": 37,
      "outputs": [
        {
          "output_type": "execute_result",
          "data": {
            "text/plain": [
              "['Спорт', 'Спорт', 'Спорт', 'Культура', 'Культура']"
            ]
          },
          "metadata": {
            "tags": []
          },
          "execution_count": 37
        }
      ]
    },
    {
      "cell_type": "code",
      "metadata": {
        "id": "aCe9xz5AHJOh",
        "colab_type": "code",
        "colab": {}
      },
      "source": [
        "def f(x):\n",
        "    m = {'Бизнес': 4,\n",
        "         'Культура':3,\n",
        "         'Наука и техника':2,\n",
        "         'Спорт':1,\n",
        "         'Экономика':0}\n",
        "    return m[x]\n",
        "\n",
        "preds = [f(i) for i in preds]"
      ],
      "execution_count": 0,
      "outputs": []
    },
    {
      "cell_type": "code",
      "metadata": {
        "id": "ZN3vsnsfH_X4",
        "colab_type": "code",
        "colab": {
          "base_uri": "https://localhost:8080/",
          "height": 142
        },
        "outputId": "20dc0e46-7508-4690-fb3c-c89ddaa4deb4"
      },
      "source": [
        "preds = pd.DataFrame(preds)\n",
        "preds['index'] = preds.index\n",
        "preds['topic_label'] = preds[0]\n",
        "preds[['index', 'topic_label']].to_csv('solution_ft.csv', index = None)\n",
        "preds.head(3)"
      ],
      "execution_count": 40,
      "outputs": [
        {
          "output_type": "execute_result",
          "data": {
            "text/html": [
              "<div>\n",
              "<style scoped>\n",
              "    .dataframe tbody tr th:only-of-type {\n",
              "        vertical-align: middle;\n",
              "    }\n",
              "\n",
              "    .dataframe tbody tr th {\n",
              "        vertical-align: top;\n",
              "    }\n",
              "\n",
              "    .dataframe thead th {\n",
              "        text-align: right;\n",
              "    }\n",
              "</style>\n",
              "<table border=\"1\" class=\"dataframe\">\n",
              "  <thead>\n",
              "    <tr style=\"text-align: right;\">\n",
              "      <th></th>\n",
              "      <th>0</th>\n",
              "      <th>index</th>\n",
              "      <th>topic_label</th>\n",
              "    </tr>\n",
              "  </thead>\n",
              "  <tbody>\n",
              "    <tr>\n",
              "      <th>0</th>\n",
              "      <td>1</td>\n",
              "      <td>0</td>\n",
              "      <td>1</td>\n",
              "    </tr>\n",
              "    <tr>\n",
              "      <th>1</th>\n",
              "      <td>1</td>\n",
              "      <td>1</td>\n",
              "      <td>1</td>\n",
              "    </tr>\n",
              "    <tr>\n",
              "      <th>2</th>\n",
              "      <td>1</td>\n",
              "      <td>2</td>\n",
              "      <td>1</td>\n",
              "    </tr>\n",
              "  </tbody>\n",
              "</table>\n",
              "</div>"
            ],
            "text/plain": [
              "   0  index  topic_label\n",
              "0  1      0            1\n",
              "1  1      1            1\n",
              "2  1      2            1"
            ]
          },
          "metadata": {
            "tags": []
          },
          "execution_count": 40
        }
      ]
    },
    {
      "cell_type": "markdown",
      "metadata": {
        "colab_type": "text",
        "id": "LiPeyMN1xnXy"
      },
      "source": [
        "## simple NN\n",
        "\n",
        "К лемматизированному датасету применяем мешок слов:"
      ]
    },
    {
      "cell_type": "code",
      "metadata": {
        "colab_type": "code",
        "id": "4jmDZFpaxnXz",
        "colab": {},
        "outputId": "a303b180-73ae-402b-8679-fb740ff6c4cd"
      },
      "source": [
        "from sklearn.feature_extraction.text import CountVectorizer\n",
        "\n",
        "vectorizer = CountVectorizer(min_df=20, lowercase=True)\n",
        "vectorizer.fit(lenta.lemmas)"
      ],
      "execution_count": 0,
      "outputs": [
        {
          "output_type": "execute_result",
          "data": {
            "text/plain": [
              "CountVectorizer(analyzer='word', binary=False, decode_error='strict',\n",
              "                dtype=<class 'numpy.int64'>, encoding='utf-8', input='content',\n",
              "                lowercase=True, max_df=1.0, max_features=None, min_df=20,\n",
              "                ngram_range=(1, 1), preprocessor=None, stop_words=None,\n",
              "                strip_accents=None, token_pattern='(?u)\\\\b\\\\w\\\\w+\\\\b',\n",
              "                tokenizer=None, vocabulary=None)"
            ]
          },
          "metadata": {
            "tags": []
          },
          "execution_count": 11
        }
      ]
    },
    {
      "cell_type": "code",
      "metadata": {
        "colab_type": "code",
        "id": "SluScNmfxnX1",
        "colab": {}
      },
      "source": [
        "vectors = vectorizer.transform(lenta.lemmas).toarray()"
      ],
      "execution_count": 0,
      "outputs": []
    },
    {
      "cell_type": "markdown",
      "metadata": {
        "colab_type": "text",
        "id": "15m2WbRtxnX6"
      },
      "source": [
        "Кроме того, мы решаем задачу классифиакции на 5 классов, и метки нужно будет подавать на вход модели в виде one-hot-encoded вектора ([0,0,1,0,0] для класса 3, например). Преобразуем наши метки:"
      ]
    },
    {
      "cell_type": "code",
      "metadata": {
        "colab_type": "code",
        "id": "9G7zVtIYxnX7",
        "colab": {},
        "outputId": "0328e3a2-8052-43a0-afbe-78d4054d89cb"
      },
      "source": [
        "from sklearn.preprocessing import LabelEncoder\n",
        "from keras.utils import np_utils\n",
        "\n",
        "encoder = LabelEncoder()\n",
        "encoder.fit(lenta.topic)\n",
        "encoded_Y = encoder.transform(lenta.topic)\n",
        "dummy_y = np_utils.to_categorical(encoded_Y)"
      ],
      "execution_count": 0,
      "outputs": [
        {
          "output_type": "stream",
          "text": [
            "Using TensorFlow backend.\n"
          ],
          "name": "stderr"
        }
      ]
    },
    {
      "cell_type": "code",
      "metadata": {
        "colab_type": "code",
        "id": "TWzSnE86xnX-",
        "colab": {},
        "outputId": "6d27475c-f4e8-4bc6-aa9b-488e89b092c7"
      },
      "source": [
        "encoder.classes_"
      ],
      "execution_count": 0,
      "outputs": [
        {
          "output_type": "execute_result",
          "data": {
            "text/plain": [
              "array(['Бизнес', 'Культура', 'Наука и техника', 'Спорт', 'Экономика'],\n",
              "      dtype=object)"
            ]
          },
          "metadata": {
            "tags": []
          },
          "execution_count": 14
        }
      ]
    },
    {
      "cell_type": "markdown",
      "metadata": {
        "colab_type": "text",
        "id": "T9q87SF3xnYA"
      },
      "source": [
        "Все готово: и тексты, и метки преобразованы к нужному формату, разбиваем наш датасет на train и test для обучения:"
      ]
    },
    {
      "cell_type": "code",
      "metadata": {
        "colab_type": "code",
        "id": "pLdFVvXgxnYB",
        "colab": {},
        "outputId": "28faafb4-ce6f-43cf-b326-9a9f5dd67ffd"
      },
      "source": [
        "from sklearn.model_selection import train_test_split\n",
        "\n",
        "x_train,  x_test,y_train, y_test = train_test_split(vectors, dummy_y, test_size=0.3)\n",
        "x_train.shape, x_test.shape"
      ],
      "execution_count": 0,
      "outputs": [
        {
          "output_type": "execute_result",
          "data": {
            "text/plain": [
              "((70000, 17720), (30000, 17720))"
            ]
          },
          "metadata": {
            "tags": []
          },
          "execution_count": 15
        }
      ]
    },
    {
      "cell_type": "code",
      "metadata": {
        "colab_type": "code",
        "id": "qyLk-cI3xnYE",
        "colab": {},
        "outputId": "cd8386c8-5b5d-475c-c2ba-4e5f9b254041"
      },
      "source": [
        "y_train[0]"
      ],
      "execution_count": 0,
      "outputs": [
        {
          "output_type": "execute_result",
          "data": {
            "text/plain": [
              "array([0., 0., 0., 0., 1.], dtype=float32)"
            ]
          },
          "metadata": {
            "tags": []
          },
          "execution_count": 16
        }
      ]
    },
    {
      "cell_type": "markdown",
      "metadata": {
        "colab_type": "text",
        "id": "0utEhGM1xnYG"
      },
      "source": [
        "Попробуем простую полносвязную сеть:"
      ]
    },
    {
      "cell_type": "code",
      "metadata": {
        "colab_type": "code",
        "id": "7Lg3vFn0xnYH",
        "colab": {}
      },
      "source": [
        "from keras.preprocessing import sequence\n",
        "from keras.models import Sequential\n",
        "from keras.layers import Dense, Dropout, Activation"
      ],
      "execution_count": 0,
      "outputs": []
    },
    {
      "cell_type": "code",
      "metadata": {
        "colab_type": "code",
        "id": "gbulKGx9xnYJ",
        "colab": {}
      },
      "source": [
        "input_dim = x_train.shape[1]  # Number of features\n",
        "\n",
        "model = Sequential()\n",
        "model.add(Dense(30, input_dim=input_dim, activation='relu'))\n",
        "model.add(Dense(5, activation='softmax'))\n",
        "model.compile(loss='categorical_crossentropy', optimizer='adam', metrics=['accuracy'])"
      ],
      "execution_count": 0,
      "outputs": []
    },
    {
      "cell_type": "code",
      "metadata": {
        "colab_type": "code",
        "id": "bEACbRKUxnYM",
        "colab": {},
        "outputId": "6a80312b-b804-4ce4-c844-71c76141f95a"
      },
      "source": [
        "history = model.fit(x_train, y_train,\n",
        "                     epochs=20,\n",
        "                     verbose=True,\n",
        "                     validation_data=(x_test, y_test),\n",
        "                     batch_size=1000)"
      ],
      "execution_count": 0,
      "outputs": [
        {
          "output_type": "stream",
          "text": [
            "Train on 70000 samples, validate on 30000 samples\n",
            "Epoch 1/20\n",
            "70000/70000 [==============================] - 9s 131us/step - loss: 0.4286 - accuracy: 0.9138 - val_loss: 0.1832 - val_accuracy: 0.9506\n",
            "Epoch 2/20\n",
            "70000/70000 [==============================] - 9s 131us/step - loss: 0.1321 - accuracy: 0.9627 - val_loss: 0.1439 - val_accuracy: 0.9566\n",
            "Epoch 3/20\n",
            "70000/70000 [==============================] - 9s 130us/step - loss: 0.0875 - accuracy: 0.9756 - val_loss: 0.1346 - val_accuracy: 0.9572\n",
            "Epoch 4/20\n",
            "70000/70000 [==============================] - 9s 130us/step - loss: 0.0625 - accuracy: 0.9839 - val_loss: 0.1330 - val_accuracy: 0.9580\n",
            "Epoch 5/20\n",
            "70000/70000 [==============================] - 9s 133us/step - loss: 0.0463 - accuracy: 0.9891 - val_loss: 0.1364 - val_accuracy: 0.9567\n",
            "Epoch 6/20\n",
            "70000/70000 [==============================] - 9s 131us/step - loss: 0.0347 - accuracy: 0.9930 - val_loss: 0.1413 - val_accuracy: 0.9566\n",
            "Epoch 7/20\n",
            "70000/70000 [==============================] - 9s 131us/step - loss: 0.0267 - accuracy: 0.9952 - val_loss: 0.1446 - val_accuracy: 0.9567\n",
            "Epoch 8/20\n",
            "70000/70000 [==============================] - 9s 130us/step - loss: 0.0208 - accuracy: 0.9969 - val_loss: 0.1486 - val_accuracy: 0.9570\n",
            "Epoch 9/20\n",
            "70000/70000 [==============================] - 9s 129us/step - loss: 0.0166 - accuracy: 0.9978 - val_loss: 0.1536 - val_accuracy: 0.9563\n",
            "Epoch 10/20\n",
            "70000/70000 [==============================] - 9s 129us/step - loss: 0.0133 - accuracy: 0.9985 - val_loss: 0.1598 - val_accuracy: 0.9565\n",
            "Epoch 11/20\n",
            "70000/70000 [==============================] - 9s 130us/step - loss: 0.0110 - accuracy: 0.9992 - val_loss: 0.1653 - val_accuracy: 0.9564\n",
            "Epoch 12/20\n",
            "70000/70000 [==============================] - 9s 129us/step - loss: 0.0092 - accuracy: 0.9996 - val_loss: 0.1709 - val_accuracy: 0.9560\n",
            "Epoch 13/20\n",
            "70000/70000 [==============================] - 9s 129us/step - loss: 0.0079 - accuracy: 0.9997 - val_loss: 0.1767 - val_accuracy: 0.9560\n",
            "Epoch 14/20\n",
            "70000/70000 [==============================] - 9s 130us/step - loss: 0.0068 - accuracy: 0.9997 - val_loss: 0.1795 - val_accuracy: 0.9558\n",
            "Epoch 15/20\n",
            "70000/70000 [==============================] - 9s 129us/step - loss: 0.0060 - accuracy: 0.9997 - val_loss: 0.1846 - val_accuracy: 0.9555\n",
            "Epoch 16/20\n",
            "70000/70000 [==============================] - 9s 129us/step - loss: 0.0053 - accuracy: 0.9997 - val_loss: 0.1891 - val_accuracy: 0.9559\n",
            "Epoch 17/20\n",
            "67000/70000 [===========================>..] - ETA: 0s - loss: 0.0047 - accuracy: 0.9997"
          ],
          "name": "stdout"
        },
        {
          "output_type": "error",
          "ename": "KeyboardInterrupt",
          "evalue": "",
          "traceback": [
            "\u001b[0;31m---------------------------------------------------------------------------\u001b[0m",
            "\u001b[0;31mKeyboardInterrupt\u001b[0m                         Traceback (most recent call last)",
            "\u001b[0;32m<ipython-input-19-67a4d3647cb6>\u001b[0m in \u001b[0;36m<module>\u001b[0;34m\u001b[0m\n\u001b[1;32m      3\u001b[0m                      \u001b[0mverbose\u001b[0m\u001b[0;34m=\u001b[0m\u001b[0;32mTrue\u001b[0m\u001b[0;34m,\u001b[0m\u001b[0;34m\u001b[0m\u001b[0;34m\u001b[0m\u001b[0m\n\u001b[1;32m      4\u001b[0m                      \u001b[0mvalidation_data\u001b[0m\u001b[0;34m=\u001b[0m\u001b[0;34m(\u001b[0m\u001b[0mx_test\u001b[0m\u001b[0;34m,\u001b[0m \u001b[0my_test\u001b[0m\u001b[0;34m)\u001b[0m\u001b[0;34m,\u001b[0m\u001b[0;34m\u001b[0m\u001b[0;34m\u001b[0m\u001b[0m\n\u001b[0;32m----> 5\u001b[0;31m                      batch_size=1000)\n\u001b[0m",
            "\u001b[0;32m~/anaconda3/lib/python3.7/site-packages/keras/engine/training.py\u001b[0m in \u001b[0;36mfit\u001b[0;34m(self, x, y, batch_size, epochs, verbose, callbacks, validation_split, validation_data, shuffle, class_weight, sample_weight, initial_epoch, steps_per_epoch, validation_steps, validation_freq, max_queue_size, workers, use_multiprocessing, **kwargs)\u001b[0m\n\u001b[1;32m   1237\u001b[0m                                         \u001b[0msteps_per_epoch\u001b[0m\u001b[0;34m=\u001b[0m\u001b[0msteps_per_epoch\u001b[0m\u001b[0;34m,\u001b[0m\u001b[0;34m\u001b[0m\u001b[0;34m\u001b[0m\u001b[0m\n\u001b[1;32m   1238\u001b[0m                                         \u001b[0mvalidation_steps\u001b[0m\u001b[0;34m=\u001b[0m\u001b[0mvalidation_steps\u001b[0m\u001b[0;34m,\u001b[0m\u001b[0;34m\u001b[0m\u001b[0;34m\u001b[0m\u001b[0m\n\u001b[0;32m-> 1239\u001b[0;31m                                         validation_freq=validation_freq)\n\u001b[0m\u001b[1;32m   1240\u001b[0m \u001b[0;34m\u001b[0m\u001b[0m\n\u001b[1;32m   1241\u001b[0m     def evaluate(self,\n",
            "\u001b[0;32m~/anaconda3/lib/python3.7/site-packages/keras/engine/training_arrays.py\u001b[0m in \u001b[0;36mfit_loop\u001b[0;34m(model, fit_function, fit_inputs, out_labels, batch_size, epochs, verbose, callbacks, val_function, val_inputs, shuffle, initial_epoch, steps_per_epoch, validation_steps, validation_freq)\u001b[0m\n\u001b[1;32m    194\u001b[0m                     \u001b[0mins_batch\u001b[0m\u001b[0;34m[\u001b[0m\u001b[0mi\u001b[0m\u001b[0;34m]\u001b[0m \u001b[0;34m=\u001b[0m \u001b[0mins_batch\u001b[0m\u001b[0;34m[\u001b[0m\u001b[0mi\u001b[0m\u001b[0;34m]\u001b[0m\u001b[0;34m.\u001b[0m\u001b[0mtoarray\u001b[0m\u001b[0;34m(\u001b[0m\u001b[0;34m)\u001b[0m\u001b[0;34m\u001b[0m\u001b[0;34m\u001b[0m\u001b[0m\n\u001b[1;32m    195\u001b[0m \u001b[0;34m\u001b[0m\u001b[0m\n\u001b[0;32m--> 196\u001b[0;31m                 \u001b[0mouts\u001b[0m \u001b[0;34m=\u001b[0m \u001b[0mfit_function\u001b[0m\u001b[0;34m(\u001b[0m\u001b[0mins_batch\u001b[0m\u001b[0;34m)\u001b[0m\u001b[0;34m\u001b[0m\u001b[0;34m\u001b[0m\u001b[0m\n\u001b[0m\u001b[1;32m    197\u001b[0m                 \u001b[0mouts\u001b[0m \u001b[0;34m=\u001b[0m \u001b[0mto_list\u001b[0m\u001b[0;34m(\u001b[0m\u001b[0mouts\u001b[0m\u001b[0;34m)\u001b[0m\u001b[0;34m\u001b[0m\u001b[0;34m\u001b[0m\u001b[0m\n\u001b[1;32m    198\u001b[0m                 \u001b[0;32mfor\u001b[0m \u001b[0ml\u001b[0m\u001b[0;34m,\u001b[0m \u001b[0mo\u001b[0m \u001b[0;32min\u001b[0m \u001b[0mzip\u001b[0m\u001b[0;34m(\u001b[0m\u001b[0mout_labels\u001b[0m\u001b[0;34m,\u001b[0m \u001b[0mouts\u001b[0m\u001b[0;34m)\u001b[0m\u001b[0;34m:\u001b[0m\u001b[0;34m\u001b[0m\u001b[0;34m\u001b[0m\u001b[0m\n",
            "\u001b[0;32m~/anaconda3/lib/python3.7/site-packages/tensorflow_core/python/keras/backend.py\u001b[0m in \u001b[0;36m__call__\u001b[0;34m(self, inputs)\u001b[0m\n\u001b[1;32m   3746\u001b[0m     return nest.pack_sequence_as(\n\u001b[1;32m   3747\u001b[0m         \u001b[0mself\u001b[0m\u001b[0;34m.\u001b[0m\u001b[0m_outputs_structure\u001b[0m\u001b[0;34m,\u001b[0m\u001b[0;34m\u001b[0m\u001b[0;34m\u001b[0m\u001b[0m\n\u001b[0;32m-> 3748\u001b[0;31m         \u001b[0;34m[\u001b[0m\u001b[0mx\u001b[0m\u001b[0;34m.\u001b[0m\u001b[0m_numpy\u001b[0m\u001b[0;34m(\u001b[0m\u001b[0;34m)\u001b[0m \u001b[0;32mfor\u001b[0m \u001b[0mx\u001b[0m \u001b[0;32min\u001b[0m \u001b[0moutputs\u001b[0m\u001b[0;34m]\u001b[0m\u001b[0;34m,\u001b[0m  \u001b[0;31m# pylint: disable=protected-access\u001b[0m\u001b[0;34m\u001b[0m\u001b[0;34m\u001b[0m\u001b[0m\n\u001b[0m\u001b[1;32m   3749\u001b[0m         expand_composites=True)\n\u001b[1;32m   3750\u001b[0m \u001b[0;34m\u001b[0m\u001b[0m\n",
            "\u001b[0;32m~/anaconda3/lib/python3.7/site-packages/tensorflow_core/python/keras/backend.py\u001b[0m in \u001b[0;36m<listcomp>\u001b[0;34m(.0)\u001b[0m\n\u001b[1;32m   3746\u001b[0m     return nest.pack_sequence_as(\n\u001b[1;32m   3747\u001b[0m         \u001b[0mself\u001b[0m\u001b[0;34m.\u001b[0m\u001b[0m_outputs_structure\u001b[0m\u001b[0;34m,\u001b[0m\u001b[0;34m\u001b[0m\u001b[0;34m\u001b[0m\u001b[0m\n\u001b[0;32m-> 3748\u001b[0;31m         \u001b[0;34m[\u001b[0m\u001b[0mx\u001b[0m\u001b[0;34m.\u001b[0m\u001b[0m_numpy\u001b[0m\u001b[0;34m(\u001b[0m\u001b[0;34m)\u001b[0m \u001b[0;32mfor\u001b[0m \u001b[0mx\u001b[0m \u001b[0;32min\u001b[0m \u001b[0moutputs\u001b[0m\u001b[0;34m]\u001b[0m\u001b[0;34m,\u001b[0m  \u001b[0;31m# pylint: disable=protected-access\u001b[0m\u001b[0;34m\u001b[0m\u001b[0;34m\u001b[0m\u001b[0m\n\u001b[0m\u001b[1;32m   3749\u001b[0m         expand_composites=True)\n\u001b[1;32m   3750\u001b[0m \u001b[0;34m\u001b[0m\u001b[0m\n",
            "\u001b[0;31mKeyboardInterrupt\u001b[0m: "
          ]
        }
      ]
    },
    {
      "cell_type": "markdown",
      "metadata": {
        "colab_type": "text",
        "id": "rnHSKgakxnYP"
      },
      "source": [
        "Как видим, уже на второй эпохе качество очень высокое. Дальше можно подобрать параметры сети, добавить слоев или инициализировать тексты не вектором мешка слов, а более умными предобученными эмбедингами."
      ]
    },
    {
      "cell_type": "markdown",
      "metadata": {
        "colab_type": "text",
        "id": "5ZdR20utk_2s"
      },
      "source": [
        "Теперь отправим наше решение в Kaggle:"
      ]
    },
    {
      "cell_type": "code",
      "metadata": {
        "colab_type": "code",
        "id": "u0GRZx_VxnYb",
        "colab": {}
      },
      "source": [
        "test_vectors = vectorizer.transform(test_data.lemmas).toarray()"
      ],
      "execution_count": 0,
      "outputs": []
    },
    {
      "cell_type": "markdown",
      "metadata": {
        "colab_type": "text",
        "id": "gt04dBNAxnYd"
      },
      "source": [
        "Получаем предсказания для всех объектов тестовой выборки:"
      ]
    },
    {
      "cell_type": "code",
      "metadata": {
        "colab_type": "code",
        "id": "fuE8bBszxnYe",
        "colab": {}
      },
      "source": [
        "preds = model.predict_classes(test_vectors)"
      ],
      "execution_count": 0,
      "outputs": []
    },
    {
      "cell_type": "markdown",
      "metadata": {
        "colab_type": "text",
        "id": "Nc_bR7-kxnYh"
      },
      "source": [
        "Чтобы отправить решение на Kaggle, нужно раскодировать метки обратно в названия классов, в соответствиии с тем, как из закодировал LabelEncoder:"
      ]
    },
    {
      "cell_type": "code",
      "metadata": {
        "colab_type": "code",
        "id": "hJUTnu4JxnYi",
        "colab": {},
        "outputId": "cdd6698f-76a5-4a64-ef58-ad1f6c95beb8"
      },
      "source": [
        "preds[:10]"
      ],
      "execution_count": 0,
      "outputs": [
        {
          "output_type": "execute_result",
          "data": {
            "text/plain": [
              "array([3, 3, 3, 1, 1, 4, 4, 3, 2, 4])"
            ]
          },
          "metadata": {
            "tags": []
          },
          "execution_count": 28
        }
      ]
    },
    {
      "cell_type": "code",
      "metadata": {
        "colab_type": "code",
        "id": "YlXbQoLOxnYk",
        "colab": {},
        "outputId": "15f05aec-f3f9-4b6c-848f-790c4c6bd280"
      },
      "source": [
        "def f(x):\n",
        "    m = {0: 'Бизнес',\n",
        "         1: 'Культура',\n",
        "         2: 'Наука и техника',\n",
        "         3:'Спорт',\n",
        "         4:'Экономика'}\n",
        "    return m[x]\n",
        "\n",
        "f(3)"
      ],
      "execution_count": 0,
      "outputs": [
        {
          "output_type": "execute_result",
          "data": {
            "text/plain": [
              "'Спорт'"
            ]
          },
          "metadata": {
            "tags": []
          },
          "execution_count": 29
        }
      ]
    },
    {
      "cell_type": "code",
      "metadata": {
        "colab_type": "code",
        "id": "K-4EH2bCxnYn",
        "colab": {},
        "outputId": "ca63cfff-6b25-41c3-c22d-fc4cd1777d91"
      },
      "source": [
        "test_data['label'] = [f(pred) for pred in preds]\n",
        "test_data[['text', 'label']].head()"
      ],
      "execution_count": 0,
      "outputs": [
        {
          "output_type": "execute_result",
          "data": {
            "text/html": [
              "<div>\n",
              "<style scoped>\n",
              "    .dataframe tbody tr th:only-of-type {\n",
              "        vertical-align: middle;\n",
              "    }\n",
              "\n",
              "    .dataframe tbody tr th {\n",
              "        vertical-align: top;\n",
              "    }\n",
              "\n",
              "    .dataframe thead th {\n",
              "        text-align: right;\n",
              "    }\n",
              "</style>\n",
              "<table border=\"1\" class=\"dataframe\">\n",
              "  <thead>\n",
              "    <tr style=\"text-align: right;\">\n",
              "      <th></th>\n",
              "      <th>text</th>\n",
              "      <th>label</th>\n",
              "    </tr>\n",
              "  </thead>\n",
              "  <tbody>\n",
              "    <tr>\n",
              "      <th>0</th>\n",
              "      <td>В южноафриканском Кейптауне победой сборной Ро...</td>\n",
              "      <td>Спорт</td>\n",
              "    </tr>\n",
              "    <tr>\n",
              "      <th>1</th>\n",
              "      <td>Анна Курникова, проиграв испанке Кончите Марти...</td>\n",
              "      <td>Спорт</td>\n",
              "    </tr>\n",
              "    <tr>\n",
              "      <th>2</th>\n",
              "      <td>Новым главным тренером московского футбольного...</td>\n",
              "      <td>Спорт</td>\n",
              "    </tr>\n",
              "    <tr>\n",
              "      <th>3</th>\n",
              "      <td>Известный голливудский актер Майкл Дуглас сове...</td>\n",
              "      <td>Культура</td>\n",
              "    </tr>\n",
              "    <tr>\n",
              "      <th>4</th>\n",
              "      <td>Глава Чеченской Республики Рамзан Кадыров снял...</td>\n",
              "      <td>Культура</td>\n",
              "    </tr>\n",
              "  </tbody>\n",
              "</table>\n",
              "</div>"
            ],
            "text/plain": [
              "                                                text     label\n",
              "0  В южноафриканском Кейптауне победой сборной Ро...     Спорт\n",
              "1  Анна Курникова, проиграв испанке Кончите Марти...     Спорт\n",
              "2  Новым главным тренером московского футбольного...     Спорт\n",
              "3  Известный голливудский актер Майкл Дуглас сове...  Культура\n",
              "4  Глава Чеченской Республики Рамзан Кадыров снял...  Культура"
            ]
          },
          "metadata": {
            "tags": []
          },
          "execution_count": 30
        }
      ]
    },
    {
      "cell_type": "code",
      "metadata": {
        "id": "dYwyN5to5HFO",
        "colab_type": "code",
        "colab": {},
        "outputId": "8ff817af-3444-4bde-8fbf-96ad100382e9"
      },
      "source": [
        "def f(x):\n",
        "    m = {'Бизнес': 4,\n",
        "         'Культура':3,\n",
        "         'Наука и техника':2,\n",
        "         'Спорт':1,\n",
        "         'Экономика':0}\n",
        "    return m[x]\n",
        "\n",
        "f('Спорт')"
      ],
      "execution_count": 0,
      "outputs": [
        {
          "output_type": "execute_result",
          "data": {
            "text/plain": [
              "1"
            ]
          },
          "metadata": {
            "tags": []
          },
          "execution_count": 42
        }
      ]
    },
    {
      "cell_type": "code",
      "metadata": {
        "id": "MlfRT3kk5HFR",
        "colab_type": "code",
        "colab": {},
        "outputId": "be2f1b4f-1bc3-4175-ba3f-6aa87a211e80"
      },
      "source": [
        "test_data['label'] = test_data.label.map(f)\n",
        "test_data[['text', 'label']].head()"
      ],
      "execution_count": 0,
      "outputs": [
        {
          "output_type": "execute_result",
          "data": {
            "text/html": [
              "<div>\n",
              "<style scoped>\n",
              "    .dataframe tbody tr th:only-of-type {\n",
              "        vertical-align: middle;\n",
              "    }\n",
              "\n",
              "    .dataframe tbody tr th {\n",
              "        vertical-align: top;\n",
              "    }\n",
              "\n",
              "    .dataframe thead th {\n",
              "        text-align: right;\n",
              "    }\n",
              "</style>\n",
              "<table border=\"1\" class=\"dataframe\">\n",
              "  <thead>\n",
              "    <tr style=\"text-align: right;\">\n",
              "      <th></th>\n",
              "      <th>text</th>\n",
              "      <th>label</th>\n",
              "    </tr>\n",
              "  </thead>\n",
              "  <tbody>\n",
              "    <tr>\n",
              "      <th>0</th>\n",
              "      <td>В южноафриканском Кейптауне победой сборной Ро...</td>\n",
              "      <td>1</td>\n",
              "    </tr>\n",
              "    <tr>\n",
              "      <th>1</th>\n",
              "      <td>Анна Курникова, проиграв испанке Кончите Марти...</td>\n",
              "      <td>1</td>\n",
              "    </tr>\n",
              "    <tr>\n",
              "      <th>2</th>\n",
              "      <td>Новым главным тренером московского футбольного...</td>\n",
              "      <td>1</td>\n",
              "    </tr>\n",
              "    <tr>\n",
              "      <th>3</th>\n",
              "      <td>Известный голливудский актер Майкл Дуглас сове...</td>\n",
              "      <td>3</td>\n",
              "    </tr>\n",
              "    <tr>\n",
              "      <th>4</th>\n",
              "      <td>Глава Чеченской Республики Рамзан Кадыров снял...</td>\n",
              "      <td>3</td>\n",
              "    </tr>\n",
              "  </tbody>\n",
              "</table>\n",
              "</div>"
            ],
            "text/plain": [
              "                                                text  label\n",
              "0  В южноафриканском Кейптауне победой сборной Ро...      1\n",
              "1  Анна Курникова, проиграв испанке Кончите Марти...      1\n",
              "2  Новым главным тренером московского футбольного...      1\n",
              "3  Известный голливудский актер Майкл Дуглас сове...      3\n",
              "4  Глава Чеченской Республики Рамзан Кадыров снял...      3"
            ]
          },
          "metadata": {
            "tags": []
          },
          "execution_count": 44
        }
      ]
    },
    {
      "cell_type": "markdown",
      "metadata": {
        "colab_type": "text",
        "id": "JfOjuYJixnYr"
      },
      "source": [
        "Сделаем столбец id с номерами объектов, в соответствии с форматом посылки в Kaggle и сохраним в файл:"
      ]
    },
    {
      "cell_type": "code",
      "metadata": {
        "colab_type": "code",
        "id": "b9d3CZdulsIS",
        "colab": {}
      },
      "source": [
        "test_data['index'] = test_data.index\n",
        "test_data['topic_label'] = test_data.label\n",
        "test_data[['index', 'topic_label']].to_csv('solution.csv', index = None)"
      ],
      "execution_count": 0,
      "outputs": []
    },
    {
      "cell_type": "markdown",
      "metadata": {
        "id": "8Ri7JRD_5HFU",
        "colab_type": "text"
      },
      "source": [
        "### Test accuracy: 0.95334"
      ]
    },
    {
      "cell_type": "code",
      "metadata": {
        "id": "pVROVQuU5HFV",
        "colab_type": "code",
        "colab": {}
      },
      "source": [
        ""
      ],
      "execution_count": 0,
      "outputs": []
    }
  ]
}