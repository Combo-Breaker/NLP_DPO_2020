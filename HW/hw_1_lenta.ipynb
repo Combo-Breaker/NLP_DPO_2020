{
 "cells": [
  {
   "cell_type": "markdown",
   "metadata": {
    "colab_type": "text",
    "id": "GdVNiitLfQjZ"
   },
   "source": [
    "## Задание\n",
    "\n",
    "Мы будем работать с (частичными) данными lenta.ru отсюда: https://www.kaggle.com/yutkin/corpus-of-russian-news-articles-from-lenta/ Ниже примерный список того, что можно попробовать в ходе решения.\n",
    "\n",
    "1. Проведите предобработку текста: уберите небуквенные символы, проведите токенизацию, лемматизируйте текст. Разбейте данные на train и test для задачи классификации (в качестве метки класса будем использовать поле topic_label).В качестве данных для классификации в пунктах 3 и 5 попробуйте взять\n",
    "    - только заголовки (title)\n",
    "    - только тексты новости (text)\n",
    "    - и то, и другое\n",
    "2. Обучите fastText для классификации текстов по темам (baseline).\n",
    "3. Обучите свою модель w2v (или возьмите любую подходящую предобученную модель). Реализуйте функцию для вычисления вектора текста / заголовка / текста+заголовка как среднего вектора входящих в него слов. \n",
    "     - (Бонус) Модифицируйте функцию вычисления среднего вектора: взвешивайте вектора слов соответствующими весами tf-idf.\n",
    "4. Обучите на полученных средних векторах алгоритм классификации (логистическая регрессия, SVM, KNN, однослойную полносвязную нейросеть). \n",
    "5. Обучите сверточную сеть, на вход можно подавать предобученные эмбеддинги из п. 4 **(для слов, не для предложений)**."
   ]
  },
  {
   "cell_type": "code",
   "execution_count": 0,
   "metadata": {
    "colab": {
     "base_uri": "https://localhost:8080/",
     "height": 377
    },
    "colab_type": "code",
    "id": "iGkpvuPJHMD7",
    "outputId": "24f1d2e2-e3ec-403e-f36f-f404bf0c657f"
   },
   "outputs": [
    {
     "name": "stdout",
     "output_type": "stream",
     "text": [
      "--2020-02-19 19:32:05--  https://www.dropbox.com/s/kdupcw1llbdbqwl/lenta-ru-train.csv?dl=0\n",
      "Resolving www.dropbox.com (www.dropbox.com)... 162.125.9.1, 2620:100:601f:1::a27d:901\n",
      "Connecting to www.dropbox.com (www.dropbox.com)|162.125.9.1|:443... connected.\n",
      "HTTP request sent, awaiting response... 301 Moved Permanently\n",
      "Location: /s/raw/kdupcw1llbdbqwl/lenta-ru-train.csv [following]\n",
      "--2020-02-19 19:32:06--  https://www.dropbox.com/s/raw/kdupcw1llbdbqwl/lenta-ru-train.csv\n",
      "Reusing existing connection to www.dropbox.com:443.\n",
      "HTTP request sent, awaiting response... 302 Found\n",
      "Location: https://uc717326034485f397c1843c4e4a.dl.dropboxusercontent.com/cd/0/inline/AyaD-4iISIoaCweUHIdlyBf97S1AskhmHzC_fsHO6Dgv8Sj9KPRagFx_N_qgyQhEQ3wzDVLEzur5DkVDYorGPhP4P9wDZQ5CrIzad3Eu30cpMWKIjf5_pr3f3ZGDa5sC41s/file# [following]\n",
      "--2020-02-19 19:32:06--  https://uc717326034485f397c1843c4e4a.dl.dropboxusercontent.com/cd/0/inline/AyaD-4iISIoaCweUHIdlyBf97S1AskhmHzC_fsHO6Dgv8Sj9KPRagFx_N_qgyQhEQ3wzDVLEzur5DkVDYorGPhP4P9wDZQ5CrIzad3Eu30cpMWKIjf5_pr3f3ZGDa5sC41s/file\n",
      "Resolving uc717326034485f397c1843c4e4a.dl.dropboxusercontent.com (uc717326034485f397c1843c4e4a.dl.dropboxusercontent.com)... 162.125.9.6, 2620:100:601f:6::a27d:906\n",
      "Connecting to uc717326034485f397c1843c4e4a.dl.dropboxusercontent.com (uc717326034485f397c1843c4e4a.dl.dropboxusercontent.com)|162.125.9.6|:443... connected.\n",
      "HTTP request sent, awaiting response... 200 OK\n",
      "Length: 517902316 (494M) [text/plain]\n",
      "Saving to: ‘lenta-ru-train.csv’\n",
      "\n",
      "lenta-ru-train.csv  100%[===================>] 493.91M  24.4MB/s    in 18s     \n",
      "\n",
      "2020-02-19 19:32:24 (27.5 MB/s) - ‘lenta-ru-train.csv’ saved [517902316/517902316]\n",
      "\n"
     ]
    }
   ],
   "source": [
    "! wget -O lenta-ru-train.csv https://www.dropbox.com/s/kdupcw1llbdbqwl/lenta-ru-train.csv?dl=0"
   ]
  },
  {
   "cell_type": "code",
   "execution_count": 0,
   "metadata": {
    "colab": {
     "base_uri": "https://localhost:8080/",
     "height": 204
    },
    "colab_type": "code",
    "id": "cIe5cT0PfCVQ",
    "outputId": "9888e851-c532-4a98-dd5e-1ad3d93c2f0c"
   },
   "outputs": [
    {
     "data": {
      "text/html": [
       "<div>\n",
       "<style scoped>\n",
       "    .dataframe tbody tr th:only-of-type {\n",
       "        vertical-align: middle;\n",
       "    }\n",
       "\n",
       "    .dataframe tbody tr th {\n",
       "        vertical-align: top;\n",
       "    }\n",
       "\n",
       "    .dataframe thead th {\n",
       "        text-align: right;\n",
       "    }\n",
       "</style>\n",
       "<table border=\"1\" class=\"dataframe\">\n",
       "  <thead>\n",
       "    <tr style=\"text-align: right;\">\n",
       "      <th></th>\n",
       "      <th>title</th>\n",
       "      <th>text</th>\n",
       "      <th>topic</th>\n",
       "      <th>topic_label</th>\n",
       "    </tr>\n",
       "  </thead>\n",
       "  <tbody>\n",
       "    <tr>\n",
       "      <th>0</th>\n",
       "      <td>Инфляция в январе 2006 года составит 2,6 процента</td>\n",
       "      <td>Глава Росстата Владимир Соколин заявил, что в ...</td>\n",
       "      <td>Экономика</td>\n",
       "      <td>0</td>\n",
       "    </tr>\n",
       "    <tr>\n",
       "      <th>1</th>\n",
       "      <td>Никита Михалков учредил День российского кино</td>\n",
       "      <td>У российских кинематографистов  появится новый...</td>\n",
       "      <td>Культура</td>\n",
       "      <td>3</td>\n",
       "    </tr>\n",
       "    <tr>\n",
       "      <th>2</th>\n",
       "      <td>Марко Матерацци вернется в строй к матчу с ЦСКА</td>\n",
       "      <td>Медицинский штаб миланского \"Интера\" обнародов...</td>\n",
       "      <td>Спорт</td>\n",
       "      <td>1</td>\n",
       "    </tr>\n",
       "    <tr>\n",
       "      <th>3</th>\n",
       "      <td>Определены лауреаты премии \"Книга года\"</td>\n",
       "      <td>Премии \"Книга года\" в 13 номинациях вручены на...</td>\n",
       "      <td>Культура</td>\n",
       "      <td>3</td>\n",
       "    </tr>\n",
       "    <tr>\n",
       "      <th>4</th>\n",
       "      <td>Гол Роналду со штрафного спас португальцев от ...</td>\n",
       "      <td>Сборная Португалии сыграла вничью с командой И...</td>\n",
       "      <td>Спорт</td>\n",
       "      <td>1</td>\n",
       "    </tr>\n",
       "  </tbody>\n",
       "</table>\n",
       "</div>"
      ],
      "text/plain": [
       "                                               title  ... topic_label\n",
       "0  Инфляция в январе 2006 года составит 2,6 процента  ...           0\n",
       "1      Никита Михалков учредил День российского кино  ...           3\n",
       "2    Марко Матерацци вернется в строй к матчу с ЦСКА  ...           1\n",
       "3            Определены лауреаты премии \"Книга года\"  ...           3\n",
       "4  Гол Роналду со штрафного спас португальцев от ...  ...           1\n",
       "\n",
       "[5 rows x 4 columns]"
      ]
     },
     "execution_count": 4,
     "metadata": {
      "tags": []
     },
     "output_type": "execute_result"
    }
   ],
   "source": [
    "import pandas as pd\n",
    "\n",
    "lenta = pd.read_csv('lenta-ru-train.csv')\n",
    "lenta.head()"
   ]
  },
  {
   "cell_type": "code",
   "execution_count": 0,
   "metadata": {
    "colab": {
     "base_uri": "https://localhost:8080/",
     "height": 119
    },
    "colab_type": "code",
    "id": "-mjzi8bHgpzE",
    "outputId": "dd5862aa-8023-4cf4-f92a-c62e43462b3a"
   },
   "outputs": [
    {
     "data": {
      "text/plain": [
       "Экономика          63693\n",
       "Спорт              51396\n",
       "Культура           43077\n",
       "Наука и техника    42507\n",
       "Бизнес              5964\n",
       "Name: topic, dtype: int64"
      ]
     },
     "execution_count": 34,
     "metadata": {
      "tags": []
     },
     "output_type": "execute_result"
    }
   ],
   "source": [
    "lenta.topic.value_counts()"
   ]
  },
  {
   "cell_type": "code",
   "execution_count": 0,
   "metadata": {
    "colab": {
     "base_uri": "https://localhost:8080/",
     "height": 34
    },
    "colab_type": "code",
    "id": "GFcXQnfVjPNm",
    "outputId": "50cb8fc3-0840-424b-ac68-648f8cf7e11e"
   },
   "outputs": [
    {
     "data": {
      "text/plain": [
       "206637"
      ]
     },
     "execution_count": 35,
     "metadata": {
      "tags": []
     },
     "output_type": "execute_result"
    }
   ],
   "source": [
    "len(lenta)"
   ]
  },
  {
   "cell_type": "markdown",
   "metadata": {
    "colab_type": "text",
    "id": "5ZdR20utk_2s"
   },
   "source": [
    "Ниже пример, как можно сделать файл с решением для Kaggle."
   ]
  },
  {
   "cell_type": "code",
   "execution_count": 1,
   "metadata": {
    "colab": {},
    "colab_type": "code",
    "id": "CacdqJCn7clQ"
   },
   "outputs": [
    {
     "name": "stdout",
     "output_type": "stream",
     "text": [
      "--2020-04-22 20:21:49--  https://www.dropbox.com/s/9av90tgqob1slnj/lenta-ru-test.csv?dl=0\n",
      "Распознаётся www.dropbox.com (www.dropbox.com)… 162.125.70.1\n",
      "Подключение к www.dropbox.com (www.dropbox.com)|162.125.70.1|:443... соединение установлено.\n",
      "HTTP-запрос отправлен. Ожидание ответа… 301 Moved Permanently\n",
      "Адрес: /s/raw/9av90tgqob1slnj/lenta-ru-test.csv [переход]\n",
      "--2020-04-22 20:21:49--  https://www.dropbox.com/s/raw/9av90tgqob1slnj/lenta-ru-test.csv\n",
      "Повторное использование соединения с www.dropbox.com:443.\n",
      "HTTP-запрос отправлен. Ожидание ответа… 302 Found\n",
      "Адрес: https://ucacafb5011fff5e1e2d20452b0c.dl.dropboxusercontent.com/cd/0/inline/A2XJ0JPjvpAJPPgc0EggXmHoYZGcKhRFjfTe-I1OSYTmIRchgsGne_Sf4H8nSAW8XxjXV-X-b8nci2mE2zzg3ng5FsOAWHO5hz0iMLQobsBCPnLHfWAnnwL_lDvDuD6ruyQ/file# [переход]\n",
      "--2020-04-22 20:21:49--  https://ucacafb5011fff5e1e2d20452b0c.dl.dropboxusercontent.com/cd/0/inline/A2XJ0JPjvpAJPPgc0EggXmHoYZGcKhRFjfTe-I1OSYTmIRchgsGne_Sf4H8nSAW8XxjXV-X-b8nci2mE2zzg3ng5FsOAWHO5hz0iMLQobsBCPnLHfWAnnwL_lDvDuD6ruyQ/file\n",
      "Распознаётся ucacafb5011fff5e1e2d20452b0c.dl.dropboxusercontent.com (ucacafb5011fff5e1e2d20452b0c.dl.dropboxusercontent.com)… 162.125.70.6\n",
      "Подключение к ucacafb5011fff5e1e2d20452b0c.dl.dropboxusercontent.com (ucacafb5011fff5e1e2d20452b0c.dl.dropboxusercontent.com)|162.125.70.6|:443... соединение установлено.\n",
      "HTTP-запрос отправлен. Ожидание ответа… 200 OK\n",
      "Длина: 128679619 (123M) [text/plain]\n",
      "Сохранение в: «lenta-ru-test.csv»\n",
      "\n",
      "lenta-ru-test.csv   100%[===================>] 122,72M  25,1MB/s    за 5,0s    \n",
      "\n",
      "2020-04-22 20:21:55 (24,3 MB/s) - «lenta-ru-test.csv» сохранён [128679619/128679619]\n",
      "\n"
     ]
    }
   ],
   "source": [
    "! wget -O lenta-ru-test.csv https://www.dropbox.com/s/9av90tgqob1slnj/lenta-ru-test.csv?dl=0"
   ]
  },
  {
   "cell_type": "code",
   "execution_count": 3,
   "metadata": {
    "colab": {
     "base_uri": "https://localhost:8080/",
     "height": 204
    },
    "colab_type": "code",
    "id": "_VeYXYOmk-pR",
    "outputId": "2804748e-68ec-4b30-9afd-2564ea793759"
   },
   "outputs": [
    {
     "data": {
      "text/html": [
       "<div>\n",
       "<style scoped>\n",
       "    .dataframe tbody tr th:only-of-type {\n",
       "        vertical-align: middle;\n",
       "    }\n",
       "\n",
       "    .dataframe tbody tr th {\n",
       "        vertical-align: top;\n",
       "    }\n",
       "\n",
       "    .dataframe thead th {\n",
       "        text-align: right;\n",
       "    }\n",
       "</style>\n",
       "<table border=\"1\" class=\"dataframe\">\n",
       "  <thead>\n",
       "    <tr style=\"text-align: right;\">\n",
       "      <th></th>\n",
       "      <th>title</th>\n",
       "      <th>text</th>\n",
       "    </tr>\n",
       "  </thead>\n",
       "  <tbody>\n",
       "    <tr>\n",
       "      <th>0</th>\n",
       "      <td>Сборная России выиграла чемпионат мира по футб...</td>\n",
       "      <td>В южноафриканском Кейптауне победой сборной Ро...</td>\n",
       "    </tr>\n",
       "    <tr>\n",
       "      <th>1</th>\n",
       "      <td>Анна Курникова снова проиграла в первом раунде</td>\n",
       "      <td>Анна Курникова, проиграв испанке Кончите Марти...</td>\n",
       "    </tr>\n",
       "    <tr>\n",
       "      <th>2</th>\n",
       "      <td>Новым главным тренером \"Спартака\" стал Станисл...</td>\n",
       "      <td>Новым главным тренером московского футбольного...</td>\n",
       "    </tr>\n",
       "    <tr>\n",
       "      <th>3</th>\n",
       "      <td>Майкл Дуглас совершил неожиданный визит на Кубу</td>\n",
       "      <td>Известный голливудский актер Майкл Дуглас сове...</td>\n",
       "    </tr>\n",
       "    <tr>\n",
       "      <th>4</th>\n",
       "      <td>Кадыров снялся в короткометражке «Волшебный гр...</td>\n",
       "      <td>Глава Чеченской Республики Рамзан Кадыров снял...</td>\n",
       "    </tr>\n",
       "  </tbody>\n",
       "</table>\n",
       "</div>"
      ],
      "text/plain": [
       "                                               title  \\\n",
       "0  Сборная России выиграла чемпионат мира по футб...   \n",
       "1     Анна Курникова снова проиграла в первом раунде   \n",
       "2  Новым главным тренером \"Спартака\" стал Станисл...   \n",
       "3    Майкл Дуглас совершил неожиданный визит на Кубу   \n",
       "4  Кадыров снялся в короткометражке «Волшебный гр...   \n",
       "\n",
       "                                                text  \n",
       "0  В южноафриканском Кейптауне победой сборной Ро...  \n",
       "1  Анна Курникова, проиграв испанке Кончите Марти...  \n",
       "2  Новым главным тренером московского футбольного...  \n",
       "3  Известный голливудский актер Майкл Дуглас сове...  \n",
       "4  Глава Чеченской Республики Рамзан Кадыров снял...  "
      ]
     },
     "execution_count": 3,
     "metadata": {},
     "output_type": "execute_result"
    }
   ],
   "source": [
    "from random import randint\n",
    "\n",
    "topics = ['Экономика', 'Спорт', 'Культура', 'Наука и техника', 'Бизнес']\n",
    "test_data = pd.read_csv('lenta-ru-test.csv')\n",
    "test_data.head()"
   ]
  },
  {
   "cell_type": "code",
   "execution_count": 8,
   "metadata": {
    "colab": {
     "base_uri": "https://localhost:8080/",
     "height": 204
    },
    "colab_type": "code",
    "id": "P2VNn0grldmS",
    "outputId": "badba887-aec3-4b89-b36d-23aff7363563"
   },
   "outputs": [
    {
     "data": {
      "text/html": [
       "<div>\n",
       "<style scoped>\n",
       "    .dataframe tbody tr th:only-of-type {\n",
       "        vertical-align: middle;\n",
       "    }\n",
       "\n",
       "    .dataframe tbody tr th {\n",
       "        vertical-align: top;\n",
       "    }\n",
       "\n",
       "    .dataframe thead th {\n",
       "        text-align: right;\n",
       "    }\n",
       "</style>\n",
       "<table border=\"1\" class=\"dataframe\">\n",
       "  <thead>\n",
       "    <tr style=\"text-align: right;\">\n",
       "      <th></th>\n",
       "      <th>title</th>\n",
       "      <th>text</th>\n",
       "      <th>label</th>\n",
       "      <th>topic_label</th>\n",
       "    </tr>\n",
       "  </thead>\n",
       "  <tbody>\n",
       "    <tr>\n",
       "      <th>0</th>\n",
       "      <td>Сборная России выиграла чемпионат мира по футб...</td>\n",
       "      <td>В южноафриканском Кейптауне победой сборной Ро...</td>\n",
       "      <td>2</td>\n",
       "      <td>1</td>\n",
       "    </tr>\n",
       "    <tr>\n",
       "      <th>1</th>\n",
       "      <td>Анна Курникова снова проиграла в первом раунде</td>\n",
       "      <td>Анна Курникова, проиграв испанке Кончите Марти...</td>\n",
       "      <td>4</td>\n",
       "      <td>2</td>\n",
       "    </tr>\n",
       "    <tr>\n",
       "      <th>2</th>\n",
       "      <td>Новым главным тренером \"Спартака\" стал Станисл...</td>\n",
       "      <td>Новым главным тренером московского футбольного...</td>\n",
       "      <td>2</td>\n",
       "      <td>2</td>\n",
       "    </tr>\n",
       "    <tr>\n",
       "      <th>3</th>\n",
       "      <td>Майкл Дуглас совершил неожиданный визит на Кубу</td>\n",
       "      <td>Известный голливудский актер Майкл Дуглас сове...</td>\n",
       "      <td>4</td>\n",
       "      <td>2</td>\n",
       "    </tr>\n",
       "    <tr>\n",
       "      <th>4</th>\n",
       "      <td>Кадыров снялся в короткометражке «Волшебный гр...</td>\n",
       "      <td>Глава Чеченской Республики Рамзан Кадыров снял...</td>\n",
       "      <td>0</td>\n",
       "      <td>2</td>\n",
       "    </tr>\n",
       "  </tbody>\n",
       "</table>\n",
       "</div>"
      ],
      "text/plain": [
       "                                               title  \\\n",
       "0  Сборная России выиграла чемпионат мира по футб...   \n",
       "1     Анна Курникова снова проиграла в первом раунде   \n",
       "2  Новым главным тренером \"Спартака\" стал Станисл...   \n",
       "3    Майкл Дуглас совершил неожиданный визит на Кубу   \n",
       "4  Кадыров снялся в короткометражке «Волшебный гр...   \n",
       "\n",
       "                                                text  label  topic_label  \n",
       "0  В южноафриканском Кейптауне победой сборной Ро...      2            1  \n",
       "1  Анна Курникова, проиграв испанке Кончите Марти...      4            2  \n",
       "2  Новым главным тренером московского футбольного...      2            2  \n",
       "3  Известный голливудский актер Майкл Дуглас сове...      4            2  \n",
       "4  Глава Чеченской Республики Рамзан Кадыров снял...      0            2  "
      ]
     },
     "execution_count": 8,
     "metadata": {},
     "output_type": "execute_result"
    }
   ],
   "source": [
    "test_data['topic_label'] = [randint(0,4) for i in range(len(test_data)) ]\n",
    "test_data.head()"
   ]
  },
  {
   "cell_type": "code",
   "execution_count": 11,
   "metadata": {
    "colab": {
     "base_uri": "https://localhost:8080/",
     "height": 71
    },
    "colab_type": "code",
    "id": "b9d3CZdulsIS",
    "outputId": "e7e3a590-5f75-4963-b830-ebeeed69946b"
   },
   "outputs": [],
   "source": [
    "test_data['topic_label'].reset_index().to_csv('submission.csv', index=False)"
   ]
  },
  {
   "cell_type": "code",
   "execution_count": null,
   "metadata": {},
   "outputs": [],
   "source": []
  }
 ],
 "metadata": {
  "colab": {
   "name": "NLP_Kaggle.ipynb",
   "provenance": []
  },
  "kernelspec": {
   "display_name": "Python 3",
   "language": "python",
   "name": "python3"
  },
  "language_info": {
   "codemirror_mode": {
    "name": "ipython",
    "version": 3
   },
   "file_extension": ".py",
   "mimetype": "text/x-python",
   "name": "python",
   "nbconvert_exporter": "python",
   "pygments_lexer": "ipython3",
   "version": "3.6.3"
  }
 },
 "nbformat": 4,
 "nbformat_minor": 1
}
