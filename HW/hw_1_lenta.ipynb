{
  "nbformat": 4,
  "nbformat_minor": 0,
  "metadata": {
    "colab": {
      "name": "NLP_Kaggle.ipynb",
      "provenance": []
    },
    "kernelspec": {
      "name": "python3",
      "display_name": "Python 3"
    }
  },
  "cells": [
    {
      "cell_type": "markdown",
      "metadata": {
        "id": "GdVNiitLfQjZ",
        "colab_type": "text"
      },
      "source": [
        "## Задание\n",
        "\n",
        "Мы будем работать с (частичными) данными lenta.ru отсюда: https://www.kaggle.com/yutkin/corpus-of-russian-news-articles-from-lenta/ Ниже примерный список того, что можно попробовать в ходе решения.\n",
        "\n",
        "1. Проведите предобработку текста: уберите небуквенные символы, проведите токенизацию, лемматизируйте текст. Разбейте данные на train и test для задачи классификации (в качестве метки класса будем использовать поле topic_label).В качестве данных для классификации в пунктах 3 и 5 попробуйте взять\n",
        "    - только заголовки (title)\n",
        "    - только тексты новости (text)\n",
        "    - и то, и другое\n",
        "2. Обучите fastText для классификации текстов по темам (baseline).\n",
        "3. Обучите свою модель w2v (или возьмите любую подходящую предобученную модель). Реализуйте функцию для вычисления вектора текста / заголовка / текста+заголовка как среднего вектора входящих в него слов. \n",
        "     - (Бонус) Модифицируйте функцию вычисления среднего вектора: взвешивайте вектора слов соответствующими весами tf-idf.\n",
        "4. Обучите на полученных средних векторах алгоритм классификации (логистическая регрессия, SVM, KNN, однослойную полносвязную нейросеть). \n",
        "5. Обучите сверточную сеть, на вход можно подавать предобученные эмбеддинги из п. 4 **(для слов, не для предложений)**."
      ]
    },
    {
      "cell_type": "code",
      "metadata": {
        "id": "iGkpvuPJHMD7",
        "colab_type": "code",
        "outputId": "24f1d2e2-e3ec-403e-f36f-f404bf0c657f",
        "colab": {
          "base_uri": "https://localhost:8080/",
          "height": 377
        }
      },
      "source": [
        "! wget -O lenta-ru-train.csv https://www.dropbox.com/s/kdupcw1llbdbqwl/lenta-ru-train.csv?dl=0"
      ],
      "execution_count": 0,
      "outputs": [
        {
          "output_type": "stream",
          "text": [
            "--2020-02-19 19:32:05--  https://www.dropbox.com/s/kdupcw1llbdbqwl/lenta-ru-train.csv?dl=0\n",
            "Resolving www.dropbox.com (www.dropbox.com)... 162.125.9.1, 2620:100:601f:1::a27d:901\n",
            "Connecting to www.dropbox.com (www.dropbox.com)|162.125.9.1|:443... connected.\n",
            "HTTP request sent, awaiting response... 301 Moved Permanently\n",
            "Location: /s/raw/kdupcw1llbdbqwl/lenta-ru-train.csv [following]\n",
            "--2020-02-19 19:32:06--  https://www.dropbox.com/s/raw/kdupcw1llbdbqwl/lenta-ru-train.csv\n",
            "Reusing existing connection to www.dropbox.com:443.\n",
            "HTTP request sent, awaiting response... 302 Found\n",
            "Location: https://uc717326034485f397c1843c4e4a.dl.dropboxusercontent.com/cd/0/inline/AyaD-4iISIoaCweUHIdlyBf97S1AskhmHzC_fsHO6Dgv8Sj9KPRagFx_N_qgyQhEQ3wzDVLEzur5DkVDYorGPhP4P9wDZQ5CrIzad3Eu30cpMWKIjf5_pr3f3ZGDa5sC41s/file# [following]\n",
            "--2020-02-19 19:32:06--  https://uc717326034485f397c1843c4e4a.dl.dropboxusercontent.com/cd/0/inline/AyaD-4iISIoaCweUHIdlyBf97S1AskhmHzC_fsHO6Dgv8Sj9KPRagFx_N_qgyQhEQ3wzDVLEzur5DkVDYorGPhP4P9wDZQ5CrIzad3Eu30cpMWKIjf5_pr3f3ZGDa5sC41s/file\n",
            "Resolving uc717326034485f397c1843c4e4a.dl.dropboxusercontent.com (uc717326034485f397c1843c4e4a.dl.dropboxusercontent.com)... 162.125.9.6, 2620:100:601f:6::a27d:906\n",
            "Connecting to uc717326034485f397c1843c4e4a.dl.dropboxusercontent.com (uc717326034485f397c1843c4e4a.dl.dropboxusercontent.com)|162.125.9.6|:443... connected.\n",
            "HTTP request sent, awaiting response... 200 OK\n",
            "Length: 517902316 (494M) [text/plain]\n",
            "Saving to: ‘lenta-ru-train.csv’\n",
            "\n",
            "lenta-ru-train.csv  100%[===================>] 493.91M  24.4MB/s    in 18s     \n",
            "\n",
            "2020-02-19 19:32:24 (27.5 MB/s) - ‘lenta-ru-train.csv’ saved [517902316/517902316]\n",
            "\n"
          ],
          "name": "stdout"
        }
      ]
    },
    {
      "cell_type": "code",
      "metadata": {
        "id": "cIe5cT0PfCVQ",
        "colab_type": "code",
        "outputId": "9888e851-c532-4a98-dd5e-1ad3d93c2f0c",
        "colab": {
          "base_uri": "https://localhost:8080/",
          "height": 204
        }
      },
      "source": [
        "import pandas as pd\n",
        "\n",
        "lenta = pd.read_csv('lenta-ru-train.csv')\n",
        "lenta.head()"
      ],
      "execution_count": 0,
      "outputs": [
        {
          "output_type": "execute_result",
          "data": {
            "text/html": [
              "<div>\n",
              "<style scoped>\n",
              "    .dataframe tbody tr th:only-of-type {\n",
              "        vertical-align: middle;\n",
              "    }\n",
              "\n",
              "    .dataframe tbody tr th {\n",
              "        vertical-align: top;\n",
              "    }\n",
              "\n",
              "    .dataframe thead th {\n",
              "        text-align: right;\n",
              "    }\n",
              "</style>\n",
              "<table border=\"1\" class=\"dataframe\">\n",
              "  <thead>\n",
              "    <tr style=\"text-align: right;\">\n",
              "      <th></th>\n",
              "      <th>title</th>\n",
              "      <th>text</th>\n",
              "      <th>topic</th>\n",
              "      <th>topic_label</th>\n",
              "    </tr>\n",
              "  </thead>\n",
              "  <tbody>\n",
              "    <tr>\n",
              "      <th>0</th>\n",
              "      <td>Инфляция в январе 2006 года составит 2,6 процента</td>\n",
              "      <td>Глава Росстата Владимир Соколин заявил, что в ...</td>\n",
              "      <td>Экономика</td>\n",
              "      <td>0</td>\n",
              "    </tr>\n",
              "    <tr>\n",
              "      <th>1</th>\n",
              "      <td>Никита Михалков учредил День российского кино</td>\n",
              "      <td>У российских кинематографистов  появится новый...</td>\n",
              "      <td>Культура</td>\n",
              "      <td>3</td>\n",
              "    </tr>\n",
              "    <tr>\n",
              "      <th>2</th>\n",
              "      <td>Марко Матерацци вернется в строй к матчу с ЦСКА</td>\n",
              "      <td>Медицинский штаб миланского \"Интера\" обнародов...</td>\n",
              "      <td>Спорт</td>\n",
              "      <td>1</td>\n",
              "    </tr>\n",
              "    <tr>\n",
              "      <th>3</th>\n",
              "      <td>Определены лауреаты премии \"Книга года\"</td>\n",
              "      <td>Премии \"Книга года\" в 13 номинациях вручены на...</td>\n",
              "      <td>Культура</td>\n",
              "      <td>3</td>\n",
              "    </tr>\n",
              "    <tr>\n",
              "      <th>4</th>\n",
              "      <td>Гол Роналду со штрафного спас португальцев от ...</td>\n",
              "      <td>Сборная Португалии сыграла вничью с командой И...</td>\n",
              "      <td>Спорт</td>\n",
              "      <td>1</td>\n",
              "    </tr>\n",
              "  </tbody>\n",
              "</table>\n",
              "</div>"
            ],
            "text/plain": [
              "                                               title  ... topic_label\n",
              "0  Инфляция в январе 2006 года составит 2,6 процента  ...           0\n",
              "1      Никита Михалков учредил День российского кино  ...           3\n",
              "2    Марко Матерацци вернется в строй к матчу с ЦСКА  ...           1\n",
              "3            Определены лауреаты премии \"Книга года\"  ...           3\n",
              "4  Гол Роналду со штрафного спас португальцев от ...  ...           1\n",
              "\n",
              "[5 rows x 4 columns]"
            ]
          },
          "metadata": {
            "tags": []
          },
          "execution_count": 4
        }
      ]
    },
    {
      "cell_type": "code",
      "metadata": {
        "id": "-mjzi8bHgpzE",
        "colab_type": "code",
        "outputId": "dd5862aa-8023-4cf4-f92a-c62e43462b3a",
        "colab": {
          "base_uri": "https://localhost:8080/",
          "height": 119
        }
      },
      "source": [
        "lenta.topic.value_counts()"
      ],
      "execution_count": 0,
      "outputs": [
        {
          "output_type": "execute_result",
          "data": {
            "text/plain": [
              "Экономика          63693\n",
              "Спорт              51396\n",
              "Культура           43077\n",
              "Наука и техника    42507\n",
              "Бизнес              5964\n",
              "Name: topic, dtype: int64"
            ]
          },
          "metadata": {
            "tags": []
          },
          "execution_count": 34
        }
      ]
    },
    {
      "cell_type": "code",
      "metadata": {
        "id": "GFcXQnfVjPNm",
        "colab_type": "code",
        "outputId": "50cb8fc3-0840-424b-ac68-648f8cf7e11e",
        "colab": {
          "base_uri": "https://localhost:8080/",
          "height": 34
        }
      },
      "source": [
        "len(lenta)"
      ],
      "execution_count": 0,
      "outputs": [
        {
          "output_type": "execute_result",
          "data": {
            "text/plain": [
              "206637"
            ]
          },
          "metadata": {
            "tags": []
          },
          "execution_count": 35
        }
      ]
    },
    {
      "cell_type": "markdown",
      "metadata": {
        "id": "5ZdR20utk_2s",
        "colab_type": "text"
      },
      "source": [
        "Ниже пример, как можно сделать файл с решением для Kaggle."
      ]
    },
    {
      "cell_type": "code",
      "metadata": {
        "id": "CacdqJCn7clQ",
        "colab_type": "code",
        "colab": {}
      },
      "source": [
        "! wget -O lenta-ru-test.csv https://www.dropbox.com/s/9av90tgqob1slnj/lenta-ru-test.csv?dl=0"
      ],
      "execution_count": 0,
      "outputs": []
    },
    {
      "cell_type": "code",
      "metadata": {
        "id": "_VeYXYOmk-pR",
        "colab_type": "code",
        "outputId": "2804748e-68ec-4b30-9afd-2564ea793759",
        "colab": {
          "base_uri": "https://localhost:8080/",
          "height": 204
        }
      },
      "source": [
        "from random import randint\n",
        "\n",
        "topics = ['Экономика', 'Спорт', 'Культура', 'Наука и техника', 'Бизнес']\n",
        "test_data = pd.read_csv('lenta-ru-test.csv')\n",
        "test_data.head()"
      ],
      "execution_count": 0,
      "outputs": [
        {
          "output_type": "execute_result",
          "data": {
            "text/html": [
              "<div>\n",
              "<style scoped>\n",
              "    .dataframe tbody tr th:only-of-type {\n",
              "        vertical-align: middle;\n",
              "    }\n",
              "\n",
              "    .dataframe tbody tr th {\n",
              "        vertical-align: top;\n",
              "    }\n",
              "\n",
              "    .dataframe thead th {\n",
              "        text-align: right;\n",
              "    }\n",
              "</style>\n",
              "<table border=\"1\" class=\"dataframe\">\n",
              "  <thead>\n",
              "    <tr style=\"text-align: right;\">\n",
              "      <th></th>\n",
              "      <th>title</th>\n",
              "      <th>text</th>\n",
              "    </tr>\n",
              "  </thead>\n",
              "  <tbody>\n",
              "    <tr>\n",
              "      <th>0</th>\n",
              "      <td>ВТБ усовершенствует систему корпоративного упр...</td>\n",
              "      <td>ВТБ продолжает работу по совершенствованию сис...</td>\n",
              "    </tr>\n",
              "    <tr>\n",
              "      <th>1</th>\n",
              "      <td>Более половины французов сочли вероятным дефол...</td>\n",
              "      <td>53 процента французов боятся, что их правитель...</td>\n",
              "    </tr>\n",
              "    <tr>\n",
              "      <th>2</th>\n",
              "      <td>Лев MGM оставил отпечатки лап на бульваре Голл...</td>\n",
              "      <td>Лев Лео, символ студии Metro-Goldwyn-Mayer, ст...</td>\n",
              "    </tr>\n",
              "    <tr>\n",
              "      <th>3</th>\n",
              "      <td>Адам Сэндлер и Кристина Ричи займутся порно</td>\n",
              "      <td>Адам Сэндлер и Кристина Ричи сыграют в комедии...</td>\n",
              "    </tr>\n",
              "    <tr>\n",
              "      <th>4</th>\n",
              "      <td>ФИФА заплатила создательнице волка Забиваки 50...</td>\n",
              "      <td>Международная федерация футбола (ФИФА) выкупил...</td>\n",
              "    </tr>\n",
              "  </tbody>\n",
              "</table>\n",
              "</div>"
            ],
            "text/plain": [
              "                                               title                                               text\n",
              "0  ВТБ усовершенствует систему корпоративного упр...  ВТБ продолжает работу по совершенствованию сис...\n",
              "1  Более половины французов сочли вероятным дефол...  53 процента французов боятся, что их правитель...\n",
              "2  Лев MGM оставил отпечатки лап на бульваре Голл...  Лев Лео, символ студии Metro-Goldwyn-Mayer, ст...\n",
              "3        Адам Сэндлер и Кристина Ричи займутся порно  Адам Сэндлер и Кристина Ричи сыграют в комедии...\n",
              "4  ФИФА заплатила создательнице волка Забиваки 50...  Международная федерация футбола (ФИФА) выкупил..."
            ]
          },
          "metadata": {
            "tags": []
          },
          "execution_count": 21
        }
      ]
    },
    {
      "cell_type": "code",
      "metadata": {
        "id": "P2VNn0grldmS",
        "colab_type": "code",
        "outputId": "badba887-aec3-4b89-b36d-23aff7363563",
        "colab": {
          "base_uri": "https://localhost:8080/",
          "height": 204
        }
      },
      "source": [
        "test_data['label'] = [topics[randint(0,4)] for i in range(len(test_data)) ]\n",
        "test_data.head()"
      ],
      "execution_count": 0,
      "outputs": [
        {
          "output_type": "execute_result",
          "data": {
            "text/html": [
              "<div>\n",
              "<style scoped>\n",
              "    .dataframe tbody tr th:only-of-type {\n",
              "        vertical-align: middle;\n",
              "    }\n",
              "\n",
              "    .dataframe tbody tr th {\n",
              "        vertical-align: top;\n",
              "    }\n",
              "\n",
              "    .dataframe thead th {\n",
              "        text-align: right;\n",
              "    }\n",
              "</style>\n",
              "<table border=\"1\" class=\"dataframe\">\n",
              "  <thead>\n",
              "    <tr style=\"text-align: right;\">\n",
              "      <th></th>\n",
              "      <th>title</th>\n",
              "      <th>text</th>\n",
              "      <th>label</th>\n",
              "    </tr>\n",
              "  </thead>\n",
              "  <tbody>\n",
              "    <tr>\n",
              "      <th>0</th>\n",
              "      <td>ВТБ усовершенствует систему корпоративного упр...</td>\n",
              "      <td>ВТБ продолжает работу по совершенствованию сис...</td>\n",
              "      <td>Бизнес</td>\n",
              "    </tr>\n",
              "    <tr>\n",
              "      <th>1</th>\n",
              "      <td>Более половины французов сочли вероятным дефол...</td>\n",
              "      <td>53 процента французов боятся, что их правитель...</td>\n",
              "      <td>Наука и техника</td>\n",
              "    </tr>\n",
              "    <tr>\n",
              "      <th>2</th>\n",
              "      <td>Лев MGM оставил отпечатки лап на бульваре Голл...</td>\n",
              "      <td>Лев Лео, символ студии Metro-Goldwyn-Mayer, ст...</td>\n",
              "      <td>Спорт</td>\n",
              "    </tr>\n",
              "    <tr>\n",
              "      <th>3</th>\n",
              "      <td>Адам Сэндлер и Кристина Ричи займутся порно</td>\n",
              "      <td>Адам Сэндлер и Кристина Ричи сыграют в комедии...</td>\n",
              "      <td>Наука и техника</td>\n",
              "    </tr>\n",
              "    <tr>\n",
              "      <th>4</th>\n",
              "      <td>ФИФА заплатила создательнице волка Забиваки 50...</td>\n",
              "      <td>Международная федерация футбола (ФИФА) выкупил...</td>\n",
              "      <td>Наука и техника</td>\n",
              "    </tr>\n",
              "  </tbody>\n",
              "</table>\n",
              "</div>"
            ],
            "text/plain": [
              "                                               title  ...            label\n",
              "0  ВТБ усовершенствует систему корпоративного упр...  ...           Бизнес\n",
              "1  Более половины французов сочли вероятным дефол...  ...  Наука и техника\n",
              "2  Лев MGM оставил отпечатки лап на бульваре Голл...  ...            Спорт\n",
              "3        Адам Сэндлер и Кристина Ричи займутся порно  ...  Наука и техника\n",
              "4  ФИФА заплатила создательнице волка Забиваки 50...  ...  Наука и техника\n",
              "\n",
              "[5 rows x 3 columns]"
            ]
          },
          "metadata": {
            "tags": []
          },
          "execution_count": 28
        }
      ]
    },
    {
      "cell_type": "code",
      "metadata": {
        "id": "b9d3CZdulsIS",
        "colab_type": "code",
        "outputId": "e7e3a590-5f75-4963-b830-ebeeed69946b",
        "colab": {
          "base_uri": "https://localhost:8080/",
          "height": 71
        }
      },
      "source": [
        "test_data['label'].to_csv('submission.csv', header = None)"
      ],
      "execution_count": 0,
      "outputs": [
        {
          "output_type": "stream",
          "text": [
            "/usr/local/lib/python3.6/dist-packages/ipykernel_launcher.py:1: FutureWarning: The signature of `Series.to_csv` was aligned to that of `DataFrame.to_csv`, and argument 'header' will change its default value from False to True: please pass an explicit value to suppress this warning.\n",
            "  \"\"\"Entry point for launching an IPython kernel.\n"
          ],
          "name": "stderr"
        }
      ]
    }
  ]
}
